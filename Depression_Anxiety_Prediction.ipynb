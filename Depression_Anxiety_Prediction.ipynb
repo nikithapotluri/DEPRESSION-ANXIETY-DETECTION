{
  "cells": [
    {
      "cell_type": "markdown",
      "metadata": {
        "id": "view-in-github",
        "colab_type": "text"
      },
      "source": [
        "<a href=\"https://colab.research.google.com/github/nikithapotluri/DEPRESSION-ANXIETY-DETECTION/blob/main/Depression_Anxiety_Prediction.ipynb\" target=\"_parent\"><img src=\"https://colab.research.google.com/assets/colab-badge.svg\" alt=\"Open In Colab\"/></a>"
      ]
    },
    {
      "cell_type": "markdown",
      "metadata": {
        "id": "oxQgSrAV97W-"
      },
      "source": [
        "**DEPRESSION & ANXIETY DETECTION**"
      ]
    },
    {
      "cell_type": "code",
      "execution_count": null,
      "metadata": {
        "id": "xoewQIWH-IF3"
      },
      "outputs": [],
      "source": [
        "#IMPORT LIBRARIES"
      ]
    },
    {
      "cell_type": "code",
      "execution_count": null,
      "metadata": {
        "id": "6vJ4kvaC-BnY"
      },
      "outputs": [],
      "source": [
        "import numpy as np\n",
        "import pandas as pd\n",
        "import matplotlib.pyplot as plt\n",
        "import seaborn as sns\n",
        "\n",
        "#For encoding categorical data:\n",
        "from sklearn.compose import ColumnTransformer\n",
        "from sklearn.preprocessing import OneHotEncoder, LabelEncoder\n",
        "\n",
        "#For splitting dataset into training & testing sets\n",
        "from sklearn.model_selection import train_test_split\n",
        "\n",
        "from sklearn.linear_model import LogisticRegression\n",
        "\n",
        "from sklearn.metrics import accuracy_score, precision_score, recall_score, f1_score, confusion_matrix, classification_report"
      ]
    },
    {
      "cell_type": "code",
      "execution_count": null,
      "metadata": {
        "id": "oHX4KvtX-Z2x"
      },
      "outputs": [],
      "source": [
        "#IMPORT DATASET"
      ]
    },
    {
      "cell_type": "code",
      "execution_count": null,
      "metadata": {
        "id": "BBtdIQr5-aoi"
      },
      "outputs": [],
      "source": [
        "dataset = pd.read_csv('./drive/MyDrive/depression_anxiety_data.csv')"
      ]
    },
    {
      "cell_type": "code",
      "source": [
        "dataset.head()"
      ],
      "metadata": {
        "colab": {
          "base_uri": "https://localhost:8080/",
          "height": 243
        },
        "id": "9q7LmaltUPAq",
        "outputId": "9a4dd38c-fd61-4401-ce07-5e0a11d7a1a1"
      },
      "execution_count": null,
      "outputs": [
        {
          "output_type": "execute_result",
          "data": {
            "text/plain": [
              "   id  school_year  age  gender        bmi          who_bmi  phq_score  \\\n",
              "0   1            1   19    male  33.333333  Class I Obesity          9   \n",
              "1   2            1   18    male  19.841270           Normal          8   \n",
              "2   3            1   19    male  25.102391       Overweight          8   \n",
              "3   4            1   18  female  23.738662           Normal         19   \n",
              "4   5            1   18    male  25.617284       Overweight          6   \n",
              "\n",
              "  depression_severity depressiveness suicidal depression_diagnosis  \\\n",
              "0                Mild          False    False                False   \n",
              "1                Mild          False    False                False   \n",
              "2                Mild          False    False                False   \n",
              "3   Moderately severe           True     True                False   \n",
              "4                Mild          False    False                False   \n",
              "\n",
              "  depression_treatment  gad_score anxiety_severity anxiousness  \\\n",
              "0                False         11         Moderate        True   \n",
              "1                False          5             Mild       False   \n",
              "2                False          6             Mild       False   \n",
              "3                False         15           Severe        True   \n",
              "4                False         14         Moderate        True   \n",
              "\n",
              "  anxiety_diagnosis anxiety_treatment  epworth_score sleepiness  \n",
              "0             False             False            7.0      False  \n",
              "1             False             False           14.0       True  \n",
              "2             False             False            6.0      False  \n",
              "3             False             False           11.0       True  \n",
              "4             False             False            3.0      False  "
            ],
            "text/html": [
              "\n",
              "  <div id=\"df-871576fa-1288-435c-8809-5149327530c7\" class=\"colab-df-container\">\n",
              "    <div>\n",
              "<style scoped>\n",
              "    .dataframe tbody tr th:only-of-type {\n",
              "        vertical-align: middle;\n",
              "    }\n",
              "\n",
              "    .dataframe tbody tr th {\n",
              "        vertical-align: top;\n",
              "    }\n",
              "\n",
              "    .dataframe thead th {\n",
              "        text-align: right;\n",
              "    }\n",
              "</style>\n",
              "<table border=\"1\" class=\"dataframe\">\n",
              "  <thead>\n",
              "    <tr style=\"text-align: right;\">\n",
              "      <th></th>\n",
              "      <th>id</th>\n",
              "      <th>school_year</th>\n",
              "      <th>age</th>\n",
              "      <th>gender</th>\n",
              "      <th>bmi</th>\n",
              "      <th>who_bmi</th>\n",
              "      <th>phq_score</th>\n",
              "      <th>depression_severity</th>\n",
              "      <th>depressiveness</th>\n",
              "      <th>suicidal</th>\n",
              "      <th>depression_diagnosis</th>\n",
              "      <th>depression_treatment</th>\n",
              "      <th>gad_score</th>\n",
              "      <th>anxiety_severity</th>\n",
              "      <th>anxiousness</th>\n",
              "      <th>anxiety_diagnosis</th>\n",
              "      <th>anxiety_treatment</th>\n",
              "      <th>epworth_score</th>\n",
              "      <th>sleepiness</th>\n",
              "    </tr>\n",
              "  </thead>\n",
              "  <tbody>\n",
              "    <tr>\n",
              "      <th>0</th>\n",
              "      <td>1</td>\n",
              "      <td>1</td>\n",
              "      <td>19</td>\n",
              "      <td>male</td>\n",
              "      <td>33.333333</td>\n",
              "      <td>Class I Obesity</td>\n",
              "      <td>9</td>\n",
              "      <td>Mild</td>\n",
              "      <td>False</td>\n",
              "      <td>False</td>\n",
              "      <td>False</td>\n",
              "      <td>False</td>\n",
              "      <td>11</td>\n",
              "      <td>Moderate</td>\n",
              "      <td>True</td>\n",
              "      <td>False</td>\n",
              "      <td>False</td>\n",
              "      <td>7.0</td>\n",
              "      <td>False</td>\n",
              "    </tr>\n",
              "    <tr>\n",
              "      <th>1</th>\n",
              "      <td>2</td>\n",
              "      <td>1</td>\n",
              "      <td>18</td>\n",
              "      <td>male</td>\n",
              "      <td>19.841270</td>\n",
              "      <td>Normal</td>\n",
              "      <td>8</td>\n",
              "      <td>Mild</td>\n",
              "      <td>False</td>\n",
              "      <td>False</td>\n",
              "      <td>False</td>\n",
              "      <td>False</td>\n",
              "      <td>5</td>\n",
              "      <td>Mild</td>\n",
              "      <td>False</td>\n",
              "      <td>False</td>\n",
              "      <td>False</td>\n",
              "      <td>14.0</td>\n",
              "      <td>True</td>\n",
              "    </tr>\n",
              "    <tr>\n",
              "      <th>2</th>\n",
              "      <td>3</td>\n",
              "      <td>1</td>\n",
              "      <td>19</td>\n",
              "      <td>male</td>\n",
              "      <td>25.102391</td>\n",
              "      <td>Overweight</td>\n",
              "      <td>8</td>\n",
              "      <td>Mild</td>\n",
              "      <td>False</td>\n",
              "      <td>False</td>\n",
              "      <td>False</td>\n",
              "      <td>False</td>\n",
              "      <td>6</td>\n",
              "      <td>Mild</td>\n",
              "      <td>False</td>\n",
              "      <td>False</td>\n",
              "      <td>False</td>\n",
              "      <td>6.0</td>\n",
              "      <td>False</td>\n",
              "    </tr>\n",
              "    <tr>\n",
              "      <th>3</th>\n",
              "      <td>4</td>\n",
              "      <td>1</td>\n",
              "      <td>18</td>\n",
              "      <td>female</td>\n",
              "      <td>23.738662</td>\n",
              "      <td>Normal</td>\n",
              "      <td>19</td>\n",
              "      <td>Moderately severe</td>\n",
              "      <td>True</td>\n",
              "      <td>True</td>\n",
              "      <td>False</td>\n",
              "      <td>False</td>\n",
              "      <td>15</td>\n",
              "      <td>Severe</td>\n",
              "      <td>True</td>\n",
              "      <td>False</td>\n",
              "      <td>False</td>\n",
              "      <td>11.0</td>\n",
              "      <td>True</td>\n",
              "    </tr>\n",
              "    <tr>\n",
              "      <th>4</th>\n",
              "      <td>5</td>\n",
              "      <td>1</td>\n",
              "      <td>18</td>\n",
              "      <td>male</td>\n",
              "      <td>25.617284</td>\n",
              "      <td>Overweight</td>\n",
              "      <td>6</td>\n",
              "      <td>Mild</td>\n",
              "      <td>False</td>\n",
              "      <td>False</td>\n",
              "      <td>False</td>\n",
              "      <td>False</td>\n",
              "      <td>14</td>\n",
              "      <td>Moderate</td>\n",
              "      <td>True</td>\n",
              "      <td>False</td>\n",
              "      <td>False</td>\n",
              "      <td>3.0</td>\n",
              "      <td>False</td>\n",
              "    </tr>\n",
              "  </tbody>\n",
              "</table>\n",
              "</div>\n",
              "    <div class=\"colab-df-buttons\">\n",
              "\n",
              "  <div class=\"colab-df-container\">\n",
              "    <button class=\"colab-df-convert\" onclick=\"convertToInteractive('df-871576fa-1288-435c-8809-5149327530c7')\"\n",
              "            title=\"Convert this dataframe to an interactive table.\"\n",
              "            style=\"display:none;\">\n",
              "\n",
              "  <svg xmlns=\"http://www.w3.org/2000/svg\" height=\"24px\" viewBox=\"0 -960 960 960\">\n",
              "    <path d=\"M120-120v-720h720v720H120Zm60-500h600v-160H180v160Zm220 220h160v-160H400v160Zm0 220h160v-160H400v160ZM180-400h160v-160H180v160Zm440 0h160v-160H620v160ZM180-180h160v-160H180v160Zm440 0h160v-160H620v160Z\"/>\n",
              "  </svg>\n",
              "    </button>\n",
              "\n",
              "  <style>\n",
              "    .colab-df-container {\n",
              "      display:flex;\n",
              "      gap: 12px;\n",
              "    }\n",
              "\n",
              "    .colab-df-convert {\n",
              "      background-color: #E8F0FE;\n",
              "      border: none;\n",
              "      border-radius: 50%;\n",
              "      cursor: pointer;\n",
              "      display: none;\n",
              "      fill: #1967D2;\n",
              "      height: 32px;\n",
              "      padding: 0 0 0 0;\n",
              "      width: 32px;\n",
              "    }\n",
              "\n",
              "    .colab-df-convert:hover {\n",
              "      background-color: #E2EBFA;\n",
              "      box-shadow: 0px 1px 2px rgba(60, 64, 67, 0.3), 0px 1px 3px 1px rgba(60, 64, 67, 0.15);\n",
              "      fill: #174EA6;\n",
              "    }\n",
              "\n",
              "    .colab-df-buttons div {\n",
              "      margin-bottom: 4px;\n",
              "    }\n",
              "\n",
              "    [theme=dark] .colab-df-convert {\n",
              "      background-color: #3B4455;\n",
              "      fill: #D2E3FC;\n",
              "    }\n",
              "\n",
              "    [theme=dark] .colab-df-convert:hover {\n",
              "      background-color: #434B5C;\n",
              "      box-shadow: 0px 1px 3px 1px rgba(0, 0, 0, 0.15);\n",
              "      filter: drop-shadow(0px 1px 2px rgba(0, 0, 0, 0.3));\n",
              "      fill: #FFFFFF;\n",
              "    }\n",
              "  </style>\n",
              "\n",
              "    <script>\n",
              "      const buttonEl =\n",
              "        document.querySelector('#df-871576fa-1288-435c-8809-5149327530c7 button.colab-df-convert');\n",
              "      buttonEl.style.display =\n",
              "        google.colab.kernel.accessAllowed ? 'block' : 'none';\n",
              "\n",
              "      async function convertToInteractive(key) {\n",
              "        const element = document.querySelector('#df-871576fa-1288-435c-8809-5149327530c7');\n",
              "        const dataTable =\n",
              "          await google.colab.kernel.invokeFunction('convertToInteractive',\n",
              "                                                    [key], {});\n",
              "        if (!dataTable) return;\n",
              "\n",
              "        const docLinkHtml = 'Like what you see? Visit the ' +\n",
              "          '<a target=\"_blank\" href=https://colab.research.google.com/notebooks/data_table.ipynb>data table notebook</a>'\n",
              "          + ' to learn more about interactive tables.';\n",
              "        element.innerHTML = '';\n",
              "        dataTable['output_type'] = 'display_data';\n",
              "        await google.colab.output.renderOutput(dataTable, element);\n",
              "        const docLink = document.createElement('div');\n",
              "        docLink.innerHTML = docLinkHtml;\n",
              "        element.appendChild(docLink);\n",
              "      }\n",
              "    </script>\n",
              "  </div>\n",
              "\n",
              "\n",
              "<div id=\"df-89c5540e-679a-4786-8e7e-fbfdbaad9e4a\">\n",
              "  <button class=\"colab-df-quickchart\" onclick=\"quickchart('df-89c5540e-679a-4786-8e7e-fbfdbaad9e4a')\"\n",
              "            title=\"Suggest charts\"\n",
              "            style=\"display:none;\">\n",
              "\n",
              "<svg xmlns=\"http://www.w3.org/2000/svg\" height=\"24px\"viewBox=\"0 0 24 24\"\n",
              "     width=\"24px\">\n",
              "    <g>\n",
              "        <path d=\"M19 3H5c-1.1 0-2 .9-2 2v14c0 1.1.9 2 2 2h14c1.1 0 2-.9 2-2V5c0-1.1-.9-2-2-2zM9 17H7v-7h2v7zm4 0h-2V7h2v10zm4 0h-2v-4h2v4z\"/>\n",
              "    </g>\n",
              "</svg>\n",
              "  </button>\n",
              "\n",
              "<style>\n",
              "  .colab-df-quickchart {\n",
              "      --bg-color: #E8F0FE;\n",
              "      --fill-color: #1967D2;\n",
              "      --hover-bg-color: #E2EBFA;\n",
              "      --hover-fill-color: #174EA6;\n",
              "      --disabled-fill-color: #AAA;\n",
              "      --disabled-bg-color: #DDD;\n",
              "  }\n",
              "\n",
              "  [theme=dark] .colab-df-quickchart {\n",
              "      --bg-color: #3B4455;\n",
              "      --fill-color: #D2E3FC;\n",
              "      --hover-bg-color: #434B5C;\n",
              "      --hover-fill-color: #FFFFFF;\n",
              "      --disabled-bg-color: #3B4455;\n",
              "      --disabled-fill-color: #666;\n",
              "  }\n",
              "\n",
              "  .colab-df-quickchart {\n",
              "    background-color: var(--bg-color);\n",
              "    border: none;\n",
              "    border-radius: 50%;\n",
              "    cursor: pointer;\n",
              "    display: none;\n",
              "    fill: var(--fill-color);\n",
              "    height: 32px;\n",
              "    padding: 0;\n",
              "    width: 32px;\n",
              "  }\n",
              "\n",
              "  .colab-df-quickchart:hover {\n",
              "    background-color: var(--hover-bg-color);\n",
              "    box-shadow: 0 1px 2px rgba(60, 64, 67, 0.3), 0 1px 3px 1px rgba(60, 64, 67, 0.15);\n",
              "    fill: var(--button-hover-fill-color);\n",
              "  }\n",
              "\n",
              "  .colab-df-quickchart-complete:disabled,\n",
              "  .colab-df-quickchart-complete:disabled:hover {\n",
              "    background-color: var(--disabled-bg-color);\n",
              "    fill: var(--disabled-fill-color);\n",
              "    box-shadow: none;\n",
              "  }\n",
              "\n",
              "  .colab-df-spinner {\n",
              "    border: 2px solid var(--fill-color);\n",
              "    border-color: transparent;\n",
              "    border-bottom-color: var(--fill-color);\n",
              "    animation:\n",
              "      spin 1s steps(1) infinite;\n",
              "  }\n",
              "\n",
              "  @keyframes spin {\n",
              "    0% {\n",
              "      border-color: transparent;\n",
              "      border-bottom-color: var(--fill-color);\n",
              "      border-left-color: var(--fill-color);\n",
              "    }\n",
              "    20% {\n",
              "      border-color: transparent;\n",
              "      border-left-color: var(--fill-color);\n",
              "      border-top-color: var(--fill-color);\n",
              "    }\n",
              "    30% {\n",
              "      border-color: transparent;\n",
              "      border-left-color: var(--fill-color);\n",
              "      border-top-color: var(--fill-color);\n",
              "      border-right-color: var(--fill-color);\n",
              "    }\n",
              "    40% {\n",
              "      border-color: transparent;\n",
              "      border-right-color: var(--fill-color);\n",
              "      border-top-color: var(--fill-color);\n",
              "    }\n",
              "    60% {\n",
              "      border-color: transparent;\n",
              "      border-right-color: var(--fill-color);\n",
              "    }\n",
              "    80% {\n",
              "      border-color: transparent;\n",
              "      border-right-color: var(--fill-color);\n",
              "      border-bottom-color: var(--fill-color);\n",
              "    }\n",
              "    90% {\n",
              "      border-color: transparent;\n",
              "      border-bottom-color: var(--fill-color);\n",
              "    }\n",
              "  }\n",
              "</style>\n",
              "\n",
              "  <script>\n",
              "    async function quickchart(key) {\n",
              "      const quickchartButtonEl =\n",
              "        document.querySelector('#' + key + ' button');\n",
              "      quickchartButtonEl.disabled = true;  // To prevent multiple clicks.\n",
              "      quickchartButtonEl.classList.add('colab-df-spinner');\n",
              "      try {\n",
              "        const charts = await google.colab.kernel.invokeFunction(\n",
              "            'suggestCharts', [key], {});\n",
              "      } catch (error) {\n",
              "        console.error('Error during call to suggestCharts:', error);\n",
              "      }\n",
              "      quickchartButtonEl.classList.remove('colab-df-spinner');\n",
              "      quickchartButtonEl.classList.add('colab-df-quickchart-complete');\n",
              "    }\n",
              "    (() => {\n",
              "      let quickchartButtonEl =\n",
              "        document.querySelector('#df-89c5540e-679a-4786-8e7e-fbfdbaad9e4a button');\n",
              "      quickchartButtonEl.style.display =\n",
              "        google.colab.kernel.accessAllowed ? 'block' : 'none';\n",
              "    })();\n",
              "  </script>\n",
              "</div>\n",
              "\n",
              "    </div>\n",
              "  </div>\n"
            ],
            "application/vnd.google.colaboratory.intrinsic+json": {
              "type": "dataframe",
              "variable_name": "dataset",
              "summary": "{\n  \"name\": \"dataset\",\n  \"rows\": 783,\n  \"fields\": [\n    {\n      \"column\": \"id\",\n      \"properties\": {\n        \"dtype\": \"number\",\n        \"std\": 226,\n        \"min\": 1,\n        \"max\": 783,\n        \"num_unique_values\": 783,\n        \"samples\": [\n          598,\n          590,\n          209\n        ],\n        \"semantic_type\": \"\",\n        \"description\": \"\"\n      }\n    },\n    {\n      \"column\": \"school_year\",\n      \"properties\": {\n        \"dtype\": \"number\",\n        \"std\": 1,\n        \"min\": 1,\n        \"max\": 4,\n        \"num_unique_values\": 4,\n        \"samples\": [\n          2,\n          4,\n          1\n        ],\n        \"semantic_type\": \"\",\n        \"description\": \"\"\n      }\n    },\n    {\n      \"column\": \"age\",\n      \"properties\": {\n        \"dtype\": \"number\",\n        \"std\": 1,\n        \"min\": 18,\n        \"max\": 31,\n        \"num_unique_values\": 13,\n        \"samples\": [\n          27,\n          25,\n          19\n        ],\n        \"semantic_type\": \"\",\n        \"description\": \"\"\n      }\n    },\n    {\n      \"column\": \"gender\",\n      \"properties\": {\n        \"dtype\": \"category\",\n        \"num_unique_values\": 2,\n        \"samples\": [\n          \"female\",\n          \"male\"\n        ],\n        \"semantic_type\": \"\",\n        \"description\": \"\"\n      }\n    },\n    {\n      \"column\": \"bmi\",\n      \"properties\": {\n        \"dtype\": \"number\",\n        \"std\": 4.563629591216923,\n        \"min\": 0.0,\n        \"max\": 54.55266812,\n        \"num_unique_values\": 516,\n        \"samples\": [\n          24.48565201,\n          18.73278237\n        ],\n        \"semantic_type\": \"\",\n        \"description\": \"\"\n      }\n    },\n    {\n      \"column\": \"who_bmi\",\n      \"properties\": {\n        \"dtype\": \"category\",\n        \"num_unique_values\": 7,\n        \"samples\": [\n          \"Class I Obesity\",\n          \"Normal\"\n        ],\n        \"semantic_type\": \"\",\n        \"description\": \"\"\n      }\n    },\n    {\n      \"column\": \"phq_score\",\n      \"properties\": {\n        \"dtype\": \"number\",\n        \"std\": 4,\n        \"min\": 0,\n        \"max\": 24,\n        \"num_unique_values\": 24,\n        \"samples\": [\n          10,\n          5\n        ],\n        \"semantic_type\": \"\",\n        \"description\": \"\"\n      }\n    },\n    {\n      \"column\": \"depression_severity\",\n      \"properties\": {\n        \"dtype\": \"category\",\n        \"num_unique_values\": 6,\n        \"samples\": [\n          \"Mild\",\n          \"Moderately severe\"\n        ],\n        \"semantic_type\": \"\",\n        \"description\": \"\"\n      }\n    },\n    {\n      \"column\": \"depressiveness\",\n      \"properties\": {\n        \"dtype\": \"category\",\n        \"num_unique_values\": 2,\n        \"samples\": [\n          true,\n          false\n        ],\n        \"semantic_type\": \"\",\n        \"description\": \"\"\n      }\n    },\n    {\n      \"column\": \"suicidal\",\n      \"properties\": {\n        \"dtype\": \"category\",\n        \"num_unique_values\": 2,\n        \"samples\": [\n          true,\n          false\n        ],\n        \"semantic_type\": \"\",\n        \"description\": \"\"\n      }\n    },\n    {\n      \"column\": \"depression_diagnosis\",\n      \"properties\": {\n        \"dtype\": \"category\",\n        \"num_unique_values\": 2,\n        \"samples\": [\n          true,\n          false\n        ],\n        \"semantic_type\": \"\",\n        \"description\": \"\"\n      }\n    },\n    {\n      \"column\": \"depression_treatment\",\n      \"properties\": {\n        \"dtype\": \"category\",\n        \"num_unique_values\": 2,\n        \"samples\": [\n          true,\n          false\n        ],\n        \"semantic_type\": \"\",\n        \"description\": \"\"\n      }\n    },\n    {\n      \"column\": \"gad_score\",\n      \"properties\": {\n        \"dtype\": \"number\",\n        \"std\": 4,\n        \"min\": 0,\n        \"max\": 21,\n        \"num_unique_values\": 22,\n        \"samples\": [\n          11,\n          13\n        ],\n        \"semantic_type\": \"\",\n        \"description\": \"\"\n      }\n    },\n    {\n      \"column\": \"anxiety_severity\",\n      \"properties\": {\n        \"dtype\": \"category\",\n        \"num_unique_values\": 5,\n        \"samples\": [\n          \"Mild\",\n          \"0\"\n        ],\n        \"semantic_type\": \"\",\n        \"description\": \"\"\n      }\n    },\n    {\n      \"column\": \"anxiousness\",\n      \"properties\": {\n        \"dtype\": \"category\",\n        \"num_unique_values\": 2,\n        \"samples\": [\n          false,\n          true\n        ],\n        \"semantic_type\": \"\",\n        \"description\": \"\"\n      }\n    },\n    {\n      \"column\": \"anxiety_diagnosis\",\n      \"properties\": {\n        \"dtype\": \"category\",\n        \"num_unique_values\": 2,\n        \"samples\": [\n          true,\n          false\n        ],\n        \"semantic_type\": \"\",\n        \"description\": \"\"\n      }\n    },\n    {\n      \"column\": \"anxiety_treatment\",\n      \"properties\": {\n        \"dtype\": \"category\",\n        \"num_unique_values\": 2,\n        \"samples\": [\n          true,\n          false\n        ],\n        \"semantic_type\": \"\",\n        \"description\": \"\"\n      }\n    },\n    {\n      \"column\": \"epworth_score\",\n      \"properties\": {\n        \"dtype\": \"number\",\n        \"std\": 3.996442529077842,\n        \"min\": 0.0,\n        \"max\": 32.0,\n        \"num_unique_values\": 24,\n        \"samples\": [\n          4.0,\n          17.0\n        ],\n        \"semantic_type\": \"\",\n        \"description\": \"\"\n      }\n    },\n    {\n      \"column\": \"sleepiness\",\n      \"properties\": {\n        \"dtype\": \"category\",\n        \"num_unique_values\": 2,\n        \"samples\": [\n          true,\n          false\n        ],\n        \"semantic_type\": \"\",\n        \"description\": \"\"\n      }\n    }\n  ]\n}"
            }
          },
          "metadata": {},
          "execution_count": 5
        }
      ]
    },
    {
      "cell_type": "code",
      "source": [
        "dataset.info()"
      ],
      "metadata": {
        "colab": {
          "base_uri": "https://localhost:8080/"
        },
        "id": "rLY5v81TUTy2",
        "outputId": "8cb6f4bf-e11a-4e4f-ff66-c46644c217dd"
      },
      "execution_count": null,
      "outputs": [
        {
          "output_type": "stream",
          "name": "stdout",
          "text": [
            "<class 'pandas.core.frame.DataFrame'>\n",
            "RangeIndex: 783 entries, 0 to 782\n",
            "Data columns (total 19 columns):\n",
            " #   Column                Non-Null Count  Dtype  \n",
            "---  ------                --------------  -----  \n",
            " 0   id                    783 non-null    int64  \n",
            " 1   school_year           783 non-null    int64  \n",
            " 2   age                   783 non-null    int64  \n",
            " 3   gender                783 non-null    object \n",
            " 4   bmi                   783 non-null    float64\n",
            " 5   who_bmi               783 non-null    object \n",
            " 6   phq_score             783 non-null    int64  \n",
            " 7   depression_severity   779 non-null    object \n",
            " 8   depressiveness        780 non-null    object \n",
            " 9   suicidal              782 non-null    object \n",
            " 10  depression_diagnosis  782 non-null    object \n",
            " 11  depression_treatment  779 non-null    object \n",
            " 12  gad_score             783 non-null    int64  \n",
            " 13  anxiety_severity      783 non-null    object \n",
            " 14  anxiousness           777 non-null    object \n",
            " 15  anxiety_diagnosis     779 non-null    object \n",
            " 16  anxiety_treatment     781 non-null    object \n",
            " 17  epworth_score         775 non-null    float64\n",
            " 18  sleepiness            775 non-null    object \n",
            "dtypes: float64(2), int64(5), object(12)\n",
            "memory usage: 116.4+ KB\n"
          ]
        }
      ]
    },
    {
      "cell_type": "code",
      "source": [
        "dataset.columns"
      ],
      "metadata": {
        "colab": {
          "base_uri": "https://localhost:8080/"
        },
        "id": "GTscFbugUYEM",
        "outputId": "18df204a-6a04-440c-9a84-951352a501fc"
      },
      "execution_count": null,
      "outputs": [
        {
          "output_type": "execute_result",
          "data": {
            "text/plain": [
              "Index(['id', 'school_year', 'age', 'gender', 'bmi', 'who_bmi', 'phq_score',\n",
              "       'depression_severity', 'depressiveness', 'suicidal',\n",
              "       'depression_diagnosis', 'depression_treatment', 'gad_score',\n",
              "       'anxiety_severity', 'anxiousness', 'anxiety_diagnosis',\n",
              "       'anxiety_treatment', 'epworth_score', 'sleepiness'],\n",
              "      dtype='object')"
            ]
          },
          "metadata": {},
          "execution_count": 7
        }
      ]
    },
    {
      "cell_type": "code",
      "source": [
        "dataset.describe()"
      ],
      "metadata": {
        "colab": {
          "base_uri": "https://localhost:8080/",
          "height": 300
        },
        "id": "v3_HAjjjUcsz",
        "outputId": "dffe7ae8-8a80-4a79-aaed-aa3d8e9b149f"
      },
      "execution_count": null,
      "outputs": [
        {
          "output_type": "execute_result",
          "data": {
            "text/plain": [
              "               id  school_year         age         bmi   phq_score  \\\n",
              "count  783.000000   783.000000  783.000000  783.000000  783.000000   \n",
              "mean   392.000000     2.277139   20.233716   23.420533    7.123883   \n",
              "std    226.176922     1.163633    1.767217    4.563630    4.426580   \n",
              "min      1.000000     1.000000   18.000000    0.000000    0.000000   \n",
              "25%    196.500000     1.000000   19.000000   20.989420    4.000000   \n",
              "50%    392.000000     2.000000   20.000000   23.140496    6.000000   \n",
              "75%    587.500000     3.000000   21.000000   25.519924    9.000000   \n",
              "max    783.000000     4.000000   31.000000   54.552668   24.000000   \n",
              "\n",
              "        gad_score  epworth_score  \n",
              "count  783.000000     775.000000  \n",
              "mean     6.810983       6.376774  \n",
              "std      4.727352       3.996443  \n",
              "min      0.000000       0.000000  \n",
              "25%      3.000000       3.500000  \n",
              "50%      6.000000       6.000000  \n",
              "75%      9.000000       9.000000  \n",
              "max     21.000000      32.000000  "
            ],
            "text/html": [
              "\n",
              "  <div id=\"df-94f44de5-c162-4997-999d-78f2f2d6ef9d\" class=\"colab-df-container\">\n",
              "    <div>\n",
              "<style scoped>\n",
              "    .dataframe tbody tr th:only-of-type {\n",
              "        vertical-align: middle;\n",
              "    }\n",
              "\n",
              "    .dataframe tbody tr th {\n",
              "        vertical-align: top;\n",
              "    }\n",
              "\n",
              "    .dataframe thead th {\n",
              "        text-align: right;\n",
              "    }\n",
              "</style>\n",
              "<table border=\"1\" class=\"dataframe\">\n",
              "  <thead>\n",
              "    <tr style=\"text-align: right;\">\n",
              "      <th></th>\n",
              "      <th>id</th>\n",
              "      <th>school_year</th>\n",
              "      <th>age</th>\n",
              "      <th>bmi</th>\n",
              "      <th>phq_score</th>\n",
              "      <th>gad_score</th>\n",
              "      <th>epworth_score</th>\n",
              "    </tr>\n",
              "  </thead>\n",
              "  <tbody>\n",
              "    <tr>\n",
              "      <th>count</th>\n",
              "      <td>783.000000</td>\n",
              "      <td>783.000000</td>\n",
              "      <td>783.000000</td>\n",
              "      <td>783.000000</td>\n",
              "      <td>783.000000</td>\n",
              "      <td>783.000000</td>\n",
              "      <td>775.000000</td>\n",
              "    </tr>\n",
              "    <tr>\n",
              "      <th>mean</th>\n",
              "      <td>392.000000</td>\n",
              "      <td>2.277139</td>\n",
              "      <td>20.233716</td>\n",
              "      <td>23.420533</td>\n",
              "      <td>7.123883</td>\n",
              "      <td>6.810983</td>\n",
              "      <td>6.376774</td>\n",
              "    </tr>\n",
              "    <tr>\n",
              "      <th>std</th>\n",
              "      <td>226.176922</td>\n",
              "      <td>1.163633</td>\n",
              "      <td>1.767217</td>\n",
              "      <td>4.563630</td>\n",
              "      <td>4.426580</td>\n",
              "      <td>4.727352</td>\n",
              "      <td>3.996443</td>\n",
              "    </tr>\n",
              "    <tr>\n",
              "      <th>min</th>\n",
              "      <td>1.000000</td>\n",
              "      <td>1.000000</td>\n",
              "      <td>18.000000</td>\n",
              "      <td>0.000000</td>\n",
              "      <td>0.000000</td>\n",
              "      <td>0.000000</td>\n",
              "      <td>0.000000</td>\n",
              "    </tr>\n",
              "    <tr>\n",
              "      <th>25%</th>\n",
              "      <td>196.500000</td>\n",
              "      <td>1.000000</td>\n",
              "      <td>19.000000</td>\n",
              "      <td>20.989420</td>\n",
              "      <td>4.000000</td>\n",
              "      <td>3.000000</td>\n",
              "      <td>3.500000</td>\n",
              "    </tr>\n",
              "    <tr>\n",
              "      <th>50%</th>\n",
              "      <td>392.000000</td>\n",
              "      <td>2.000000</td>\n",
              "      <td>20.000000</td>\n",
              "      <td>23.140496</td>\n",
              "      <td>6.000000</td>\n",
              "      <td>6.000000</td>\n",
              "      <td>6.000000</td>\n",
              "    </tr>\n",
              "    <tr>\n",
              "      <th>75%</th>\n",
              "      <td>587.500000</td>\n",
              "      <td>3.000000</td>\n",
              "      <td>21.000000</td>\n",
              "      <td>25.519924</td>\n",
              "      <td>9.000000</td>\n",
              "      <td>9.000000</td>\n",
              "      <td>9.000000</td>\n",
              "    </tr>\n",
              "    <tr>\n",
              "      <th>max</th>\n",
              "      <td>783.000000</td>\n",
              "      <td>4.000000</td>\n",
              "      <td>31.000000</td>\n",
              "      <td>54.552668</td>\n",
              "      <td>24.000000</td>\n",
              "      <td>21.000000</td>\n",
              "      <td>32.000000</td>\n",
              "    </tr>\n",
              "  </tbody>\n",
              "</table>\n",
              "</div>\n",
              "    <div class=\"colab-df-buttons\">\n",
              "\n",
              "  <div class=\"colab-df-container\">\n",
              "    <button class=\"colab-df-convert\" onclick=\"convertToInteractive('df-94f44de5-c162-4997-999d-78f2f2d6ef9d')\"\n",
              "            title=\"Convert this dataframe to an interactive table.\"\n",
              "            style=\"display:none;\">\n",
              "\n",
              "  <svg xmlns=\"http://www.w3.org/2000/svg\" height=\"24px\" viewBox=\"0 -960 960 960\">\n",
              "    <path d=\"M120-120v-720h720v720H120Zm60-500h600v-160H180v160Zm220 220h160v-160H400v160Zm0 220h160v-160H400v160ZM180-400h160v-160H180v160Zm440 0h160v-160H620v160ZM180-180h160v-160H180v160Zm440 0h160v-160H620v160Z\"/>\n",
              "  </svg>\n",
              "    </button>\n",
              "\n",
              "  <style>\n",
              "    .colab-df-container {\n",
              "      display:flex;\n",
              "      gap: 12px;\n",
              "    }\n",
              "\n",
              "    .colab-df-convert {\n",
              "      background-color: #E8F0FE;\n",
              "      border: none;\n",
              "      border-radius: 50%;\n",
              "      cursor: pointer;\n",
              "      display: none;\n",
              "      fill: #1967D2;\n",
              "      height: 32px;\n",
              "      padding: 0 0 0 0;\n",
              "      width: 32px;\n",
              "    }\n",
              "\n",
              "    .colab-df-convert:hover {\n",
              "      background-color: #E2EBFA;\n",
              "      box-shadow: 0px 1px 2px rgba(60, 64, 67, 0.3), 0px 1px 3px 1px rgba(60, 64, 67, 0.15);\n",
              "      fill: #174EA6;\n",
              "    }\n",
              "\n",
              "    .colab-df-buttons div {\n",
              "      margin-bottom: 4px;\n",
              "    }\n",
              "\n",
              "    [theme=dark] .colab-df-convert {\n",
              "      background-color: #3B4455;\n",
              "      fill: #D2E3FC;\n",
              "    }\n",
              "\n",
              "    [theme=dark] .colab-df-convert:hover {\n",
              "      background-color: #434B5C;\n",
              "      box-shadow: 0px 1px 3px 1px rgba(0, 0, 0, 0.15);\n",
              "      filter: drop-shadow(0px 1px 2px rgba(0, 0, 0, 0.3));\n",
              "      fill: #FFFFFF;\n",
              "    }\n",
              "  </style>\n",
              "\n",
              "    <script>\n",
              "      const buttonEl =\n",
              "        document.querySelector('#df-94f44de5-c162-4997-999d-78f2f2d6ef9d button.colab-df-convert');\n",
              "      buttonEl.style.display =\n",
              "        google.colab.kernel.accessAllowed ? 'block' : 'none';\n",
              "\n",
              "      async function convertToInteractive(key) {\n",
              "        const element = document.querySelector('#df-94f44de5-c162-4997-999d-78f2f2d6ef9d');\n",
              "        const dataTable =\n",
              "          await google.colab.kernel.invokeFunction('convertToInteractive',\n",
              "                                                    [key], {});\n",
              "        if (!dataTable) return;\n",
              "\n",
              "        const docLinkHtml = 'Like what you see? Visit the ' +\n",
              "          '<a target=\"_blank\" href=https://colab.research.google.com/notebooks/data_table.ipynb>data table notebook</a>'\n",
              "          + ' to learn more about interactive tables.';\n",
              "        element.innerHTML = '';\n",
              "        dataTable['output_type'] = 'display_data';\n",
              "        await google.colab.output.renderOutput(dataTable, element);\n",
              "        const docLink = document.createElement('div');\n",
              "        docLink.innerHTML = docLinkHtml;\n",
              "        element.appendChild(docLink);\n",
              "      }\n",
              "    </script>\n",
              "  </div>\n",
              "\n",
              "\n",
              "<div id=\"df-216163bd-8080-40da-9233-250364fa0766\">\n",
              "  <button class=\"colab-df-quickchart\" onclick=\"quickchart('df-216163bd-8080-40da-9233-250364fa0766')\"\n",
              "            title=\"Suggest charts\"\n",
              "            style=\"display:none;\">\n",
              "\n",
              "<svg xmlns=\"http://www.w3.org/2000/svg\" height=\"24px\"viewBox=\"0 0 24 24\"\n",
              "     width=\"24px\">\n",
              "    <g>\n",
              "        <path d=\"M19 3H5c-1.1 0-2 .9-2 2v14c0 1.1.9 2 2 2h14c1.1 0 2-.9 2-2V5c0-1.1-.9-2-2-2zM9 17H7v-7h2v7zm4 0h-2V7h2v10zm4 0h-2v-4h2v4z\"/>\n",
              "    </g>\n",
              "</svg>\n",
              "  </button>\n",
              "\n",
              "<style>\n",
              "  .colab-df-quickchart {\n",
              "      --bg-color: #E8F0FE;\n",
              "      --fill-color: #1967D2;\n",
              "      --hover-bg-color: #E2EBFA;\n",
              "      --hover-fill-color: #174EA6;\n",
              "      --disabled-fill-color: #AAA;\n",
              "      --disabled-bg-color: #DDD;\n",
              "  }\n",
              "\n",
              "  [theme=dark] .colab-df-quickchart {\n",
              "      --bg-color: #3B4455;\n",
              "      --fill-color: #D2E3FC;\n",
              "      --hover-bg-color: #434B5C;\n",
              "      --hover-fill-color: #FFFFFF;\n",
              "      --disabled-bg-color: #3B4455;\n",
              "      --disabled-fill-color: #666;\n",
              "  }\n",
              "\n",
              "  .colab-df-quickchart {\n",
              "    background-color: var(--bg-color);\n",
              "    border: none;\n",
              "    border-radius: 50%;\n",
              "    cursor: pointer;\n",
              "    display: none;\n",
              "    fill: var(--fill-color);\n",
              "    height: 32px;\n",
              "    padding: 0;\n",
              "    width: 32px;\n",
              "  }\n",
              "\n",
              "  .colab-df-quickchart:hover {\n",
              "    background-color: var(--hover-bg-color);\n",
              "    box-shadow: 0 1px 2px rgba(60, 64, 67, 0.3), 0 1px 3px 1px rgba(60, 64, 67, 0.15);\n",
              "    fill: var(--button-hover-fill-color);\n",
              "  }\n",
              "\n",
              "  .colab-df-quickchart-complete:disabled,\n",
              "  .colab-df-quickchart-complete:disabled:hover {\n",
              "    background-color: var(--disabled-bg-color);\n",
              "    fill: var(--disabled-fill-color);\n",
              "    box-shadow: none;\n",
              "  }\n",
              "\n",
              "  .colab-df-spinner {\n",
              "    border: 2px solid var(--fill-color);\n",
              "    border-color: transparent;\n",
              "    border-bottom-color: var(--fill-color);\n",
              "    animation:\n",
              "      spin 1s steps(1) infinite;\n",
              "  }\n",
              "\n",
              "  @keyframes spin {\n",
              "    0% {\n",
              "      border-color: transparent;\n",
              "      border-bottom-color: var(--fill-color);\n",
              "      border-left-color: var(--fill-color);\n",
              "    }\n",
              "    20% {\n",
              "      border-color: transparent;\n",
              "      border-left-color: var(--fill-color);\n",
              "      border-top-color: var(--fill-color);\n",
              "    }\n",
              "    30% {\n",
              "      border-color: transparent;\n",
              "      border-left-color: var(--fill-color);\n",
              "      border-top-color: var(--fill-color);\n",
              "      border-right-color: var(--fill-color);\n",
              "    }\n",
              "    40% {\n",
              "      border-color: transparent;\n",
              "      border-right-color: var(--fill-color);\n",
              "      border-top-color: var(--fill-color);\n",
              "    }\n",
              "    60% {\n",
              "      border-color: transparent;\n",
              "      border-right-color: var(--fill-color);\n",
              "    }\n",
              "    80% {\n",
              "      border-color: transparent;\n",
              "      border-right-color: var(--fill-color);\n",
              "      border-bottom-color: var(--fill-color);\n",
              "    }\n",
              "    90% {\n",
              "      border-color: transparent;\n",
              "      border-bottom-color: var(--fill-color);\n",
              "    }\n",
              "  }\n",
              "</style>\n",
              "\n",
              "  <script>\n",
              "    async function quickchart(key) {\n",
              "      const quickchartButtonEl =\n",
              "        document.querySelector('#' + key + ' button');\n",
              "      quickchartButtonEl.disabled = true;  // To prevent multiple clicks.\n",
              "      quickchartButtonEl.classList.add('colab-df-spinner');\n",
              "      try {\n",
              "        const charts = await google.colab.kernel.invokeFunction(\n",
              "            'suggestCharts', [key], {});\n",
              "      } catch (error) {\n",
              "        console.error('Error during call to suggestCharts:', error);\n",
              "      }\n",
              "      quickchartButtonEl.classList.remove('colab-df-spinner');\n",
              "      quickchartButtonEl.classList.add('colab-df-quickchart-complete');\n",
              "    }\n",
              "    (() => {\n",
              "      let quickchartButtonEl =\n",
              "        document.querySelector('#df-216163bd-8080-40da-9233-250364fa0766 button');\n",
              "      quickchartButtonEl.style.display =\n",
              "        google.colab.kernel.accessAllowed ? 'block' : 'none';\n",
              "    })();\n",
              "  </script>\n",
              "</div>\n",
              "\n",
              "    </div>\n",
              "  </div>\n"
            ],
            "application/vnd.google.colaboratory.intrinsic+json": {
              "type": "dataframe",
              "summary": "{\n  \"name\": \"dataset\",\n  \"rows\": 8,\n  \"fields\": [\n    {\n      \"column\": \"id\",\n      \"properties\": {\n        \"dtype\": \"number\",\n        \"std\": 281.89225714323396,\n        \"min\": 1.0,\n        \"max\": 783.0,\n        \"num_unique_values\": 6,\n        \"samples\": [\n          783.0,\n          392.0,\n          587.5\n        ],\n        \"semantic_type\": \"\",\n        \"description\": \"\"\n      }\n    },\n    {\n      \"column\": \"school_year\",\n      \"properties\": {\n        \"dtype\": \"number\",\n        \"std\": 276.1049402575701,\n        \"min\": 1.0,\n        \"max\": 783.0,\n        \"num_unique_values\": 7,\n        \"samples\": [\n          783.0,\n          2.2771392081736908,\n          3.0\n        ],\n        \"semantic_type\": \"\",\n        \"description\": \"\"\n      }\n    },\n    {\n      \"column\": \"age\",\n      \"properties\": {\n        \"dtype\": \"number\",\n        \"std\": 270.33413531797197,\n        \"min\": 1.767217054863189,\n        \"max\": 783.0,\n        \"num_unique_values\": 8,\n        \"samples\": [\n          20.233716475095786,\n          20.0,\n          783.0\n        ],\n        \"semantic_type\": \"\",\n        \"description\": \"\"\n      }\n    },\n    {\n      \"column\": \"bmi\",\n      \"properties\": {\n        \"dtype\": \"number\",\n        \"std\": 269.63994057477845,\n        \"min\": 0.0,\n        \"max\": 783.0,\n        \"num_unique_values\": 8,\n        \"samples\": [\n          23.420532765925927,\n          23.14049587,\n          783.0\n        ],\n        \"semantic_type\": \"\",\n        \"description\": \"\"\n      }\n    },\n    {\n      \"column\": \"phq_score\",\n      \"properties\": {\n        \"dtype\": \"number\",\n        \"std\": 274.1693942530919,\n        \"min\": 0.0,\n        \"max\": 783.0,\n        \"num_unique_values\": 8,\n        \"samples\": [\n          7.123882503192848,\n          6.0,\n          783.0\n        ],\n        \"semantic_type\": \"\",\n        \"description\": \"\"\n      }\n    },\n    {\n      \"column\": \"gad_score\",\n      \"properties\": {\n        \"dtype\": \"number\",\n        \"std\": 274.3502630219307,\n        \"min\": 0.0,\n        \"max\": 783.0,\n        \"num_unique_values\": 8,\n        \"samples\": [\n          6.810983397190293,\n          6.0,\n          783.0\n        ],\n        \"semantic_type\": \"\",\n        \"description\": \"\"\n      }\n    },\n    {\n      \"column\": \"epworth_score\",\n      \"properties\": {\n        \"dtype\": \"number\",\n        \"std\": 271.10867101528675,\n        \"min\": 0.0,\n        \"max\": 775.0,\n        \"num_unique_values\": 8,\n        \"samples\": [\n          6.376774193548387,\n          6.0,\n          775.0\n        ],\n        \"semantic_type\": \"\",\n        \"description\": \"\"\n      }\n    }\n  ]\n}"
            }
          },
          "metadata": {},
          "execution_count": 8
        }
      ]
    },
    {
      "cell_type": "code",
      "source": [
        "dataset.isnull().sum()"
      ],
      "metadata": {
        "colab": {
          "base_uri": "https://localhost:8080/",
          "height": 680
        },
        "id": "wggllLi-Udpm",
        "outputId": "68551ea1-a81e-4adc-b017-15d660bdd390"
      },
      "execution_count": null,
      "outputs": [
        {
          "output_type": "execute_result",
          "data": {
            "text/plain": [
              "id                      0\n",
              "school_year             0\n",
              "age                     0\n",
              "gender                  0\n",
              "bmi                     0\n",
              "who_bmi                 0\n",
              "phq_score               0\n",
              "depression_severity     4\n",
              "depressiveness          3\n",
              "suicidal                1\n",
              "depression_diagnosis    1\n",
              "depression_treatment    4\n",
              "gad_score               0\n",
              "anxiety_severity        0\n",
              "anxiousness             6\n",
              "anxiety_diagnosis       4\n",
              "anxiety_treatment       2\n",
              "epworth_score           8\n",
              "sleepiness              8\n",
              "dtype: int64"
            ],
            "text/html": [
              "<div>\n",
              "<style scoped>\n",
              "    .dataframe tbody tr th:only-of-type {\n",
              "        vertical-align: middle;\n",
              "    }\n",
              "\n",
              "    .dataframe tbody tr th {\n",
              "        vertical-align: top;\n",
              "    }\n",
              "\n",
              "    .dataframe thead th {\n",
              "        text-align: right;\n",
              "    }\n",
              "</style>\n",
              "<table border=\"1\" class=\"dataframe\">\n",
              "  <thead>\n",
              "    <tr style=\"text-align: right;\">\n",
              "      <th></th>\n",
              "      <th>0</th>\n",
              "    </tr>\n",
              "  </thead>\n",
              "  <tbody>\n",
              "    <tr>\n",
              "      <th>id</th>\n",
              "      <td>0</td>\n",
              "    </tr>\n",
              "    <tr>\n",
              "      <th>school_year</th>\n",
              "      <td>0</td>\n",
              "    </tr>\n",
              "    <tr>\n",
              "      <th>age</th>\n",
              "      <td>0</td>\n",
              "    </tr>\n",
              "    <tr>\n",
              "      <th>gender</th>\n",
              "      <td>0</td>\n",
              "    </tr>\n",
              "    <tr>\n",
              "      <th>bmi</th>\n",
              "      <td>0</td>\n",
              "    </tr>\n",
              "    <tr>\n",
              "      <th>who_bmi</th>\n",
              "      <td>0</td>\n",
              "    </tr>\n",
              "    <tr>\n",
              "      <th>phq_score</th>\n",
              "      <td>0</td>\n",
              "    </tr>\n",
              "    <tr>\n",
              "      <th>depression_severity</th>\n",
              "      <td>4</td>\n",
              "    </tr>\n",
              "    <tr>\n",
              "      <th>depressiveness</th>\n",
              "      <td>3</td>\n",
              "    </tr>\n",
              "    <tr>\n",
              "      <th>suicidal</th>\n",
              "      <td>1</td>\n",
              "    </tr>\n",
              "    <tr>\n",
              "      <th>depression_diagnosis</th>\n",
              "      <td>1</td>\n",
              "    </tr>\n",
              "    <tr>\n",
              "      <th>depression_treatment</th>\n",
              "      <td>4</td>\n",
              "    </tr>\n",
              "    <tr>\n",
              "      <th>gad_score</th>\n",
              "      <td>0</td>\n",
              "    </tr>\n",
              "    <tr>\n",
              "      <th>anxiety_severity</th>\n",
              "      <td>0</td>\n",
              "    </tr>\n",
              "    <tr>\n",
              "      <th>anxiousness</th>\n",
              "      <td>6</td>\n",
              "    </tr>\n",
              "    <tr>\n",
              "      <th>anxiety_diagnosis</th>\n",
              "      <td>4</td>\n",
              "    </tr>\n",
              "    <tr>\n",
              "      <th>anxiety_treatment</th>\n",
              "      <td>2</td>\n",
              "    </tr>\n",
              "    <tr>\n",
              "      <th>epworth_score</th>\n",
              "      <td>8</td>\n",
              "    </tr>\n",
              "    <tr>\n",
              "      <th>sleepiness</th>\n",
              "      <td>8</td>\n",
              "    </tr>\n",
              "  </tbody>\n",
              "</table>\n",
              "</div><br><label><b>dtype:</b> int64</label>"
            ]
          },
          "metadata": {},
          "execution_count": 9
        }
      ]
    },
    {
      "cell_type": "code",
      "source": [
        "dataset.duplicated().sum()"
      ],
      "metadata": {
        "colab": {
          "base_uri": "https://localhost:8080/"
        },
        "id": "XEYmnKr0Ujjf",
        "outputId": "008aae70-5cc5-4093-b808-5abc91705bd3"
      },
      "execution_count": null,
      "outputs": [
        {
          "output_type": "execute_result",
          "data": {
            "text/plain": [
              "0"
            ]
          },
          "metadata": {},
          "execution_count": 10
        }
      ]
    },
    {
      "cell_type": "code",
      "source": [
        "dataset.hist(figsize=(18, 15))\n",
        "plt.show()"
      ],
      "metadata": {
        "colab": {
          "base_uri": "https://localhost:8080/",
          "height": 1000
        },
        "id": "KCYR5yqQUkZL",
        "outputId": "e14fd011-0f6a-49ed-cb22-b9b16c8a6cd7"
      },
      "execution_count": null,
      "outputs": [
        {
          "output_type": "display_data",
          "data": {
            "text/plain": [
              "<Figure size 1800x1500 with 9 Axes>"
            ],
            "image/png": "[encoded data removed]"
          },
          "metadata": {}
        }
      ]
    },
    {
      "cell_type": "code",
      "execution_count": null,
      "metadata": {
        "id": "ehG2wGdF-jQl"
      },
      "outputs": [],
      "source": [
        "#NUMERICAL & CATEGORICAL COLUMNS"
      ]
    },
    {
      "cell_type": "code",
      "execution_count": null,
      "metadata": {
        "id": "vz7k_hvR-lSA"
      },
      "outputs": [],
      "source": [
        "numerical_columns = ['phq_score', 'gad_score', 'bmi', 'epworth_score', 'age']\n",
        "categorical_columns = ['gender']"
      ]
    },
    {
      "cell_type": "code",
      "execution_count": null,
      "metadata": {
        "id": "FoMofTc2-n_S"
      },
      "outputs": [],
      "source": [
        "#TARGET VARIABLES"
      ]
    },
    {
      "cell_type": "code",
      "execution_count": null,
      "metadata": {
        "id": "0iQdZybv-rO_"
      },
      "outputs": [],
      "source": [
        "targets = ['depression_severity', 'anxiety_severity']"
      ]
    },
    {
      "cell_type": "code",
      "execution_count": null,
      "metadata": {
        "id": "2nlUk9HP_2E2",
        "colab": {
          "base_uri": "https://localhost:8080/"
        },
        "outputId": "e508a2e5-475e-4a64-e3a1-4fb26df43878"
      },
      "outputs": [
        {
          "output_type": "stream",
          "name": "stdout",
          "text": [
            "Numerical Columns:\n",
            "['phq_score', 'gad_score', 'bmi', 'epworth_score', 'age']\n",
            "\n",
            "\n",
            "Categorical Columns:\n",
            "['gender']\n",
            "\n",
            "\n",
            "Target Variables:\n",
            "['depression_severity', 'anxiety_severity']\n"
          ]
        }
      ],
      "source": [
        "#Display Independent & Dependent Values\n",
        "print(\"Numerical Columns:\")\n",
        "print(numerical_columns)\n",
        "print(\"\\n\")\n",
        "print(\"Categorical Columns:\")\n",
        "print(categorical_columns)\n",
        "print(\"\\n\")\n",
        "print(\"Target Variables:\")\n",
        "print(targets)"
      ]
    },
    {
      "cell_type": "code",
      "execution_count": null,
      "metadata": {
        "id": "o-vvXLAP-ukC"
      },
      "outputs": [],
      "source": [
        "#HANDLE MISSING DATA"
      ]
    },
    {
      "cell_type": "code",
      "execution_count": null,
      "metadata": {
        "id": "Q_Qe_u6h-0aM"
      },
      "outputs": [],
      "source": [
        "# Fill numerical columns with mean\n",
        "for col in numerical_columns:\n",
        "    dataset[col] = dataset[col].fillna(dataset[col].mean())\n",
        "\n",
        "# Fill categorical columns with mode\n",
        "for col in categorical_columns:\n",
        "    dataset[col] = dataset[col].fillna(dataset[col].mode()[0])"
      ]
    },
    {
      "cell_type": "code",
      "execution_count": null,
      "metadata": {
        "id": "1-T6E5yj-9x4"
      },
      "outputs": [],
      "source": [
        "#SEPARATE INDEPENDENT & DEPENDENT VARIABLES"
      ]
    },
    {
      "cell_type": "code",
      "execution_count": null,
      "metadata": {
        "id": "215sjT_j_DaC",
        "colab": {
          "base_uri": "https://localhost:8080/"
        },
        "outputId": "54ffa650-4d81-441c-d904-0a0f8f0bd433"
      },
      "outputs": [
        {
          "output_type": "stream",
          "name": "stdout",
          "text": [
            "Independent Variables (x):\n",
            "   phq_score  gad_score        bmi  epworth_score  age  gender\n",
            "0          9         11  33.333333            7.0   19    male\n",
            "1          8          5  19.841270           14.0   18    male\n",
            "2          8          6  25.102391            6.0   19    male\n",
            "3         19         15  23.738662           11.0   18  female\n",
            "4          6         14  25.617284            3.0   18    male\n",
            "\n",
            "\n",
            "Dependent Variables (y):\n",
            "  depression_severity anxiety_severity\n",
            "0                Mild         Moderate\n",
            "1                Mild             Mild\n",
            "2                Mild             Mild\n",
            "3   Moderately severe           Severe\n",
            "4                Mild         Moderate\n"
          ]
        }
      ],
      "source": [
        "x = dataset[numerical_columns + categorical_columns]\n",
        "y = dataset[targets]\n",
        "\n",
        "# Display the separated variables\n",
        "print(\"Independent Variables (x):\")\n",
        "print(x.head())\n",
        "print(\"\\n\")\n",
        "print(\"Dependent Variables (y):\")\n",
        "print(y.head())"
      ]
    },
    {
      "cell_type": "code",
      "execution_count": null,
      "metadata": {
        "id": "jvWv8-RU_GmS"
      },
      "outputs": [],
      "source": [
        "#ENCODE CATEGORICAL DATA"
      ]
    },
    {
      "cell_type": "code",
      "execution_count": null,
      "metadata": {
        "id": "FOb7aRqCBCi1"
      },
      "outputs": [],
      "source": [
        "#Encode Independent Variables (Gender)\n",
        "ct = ColumnTransformer(transformers=[('encoder', OneHotEncoder(), ['gender'])  ], remainder='passthrough')\n",
        "x_encoded = np.array(ct.fit_transform(x))\n",
        "\n",
        "# Encode Dependent Variables (depression_severity, anxiety_severity)\n",
        "y_encoded = y.copy()  # Create a copy to avoid warnings\n",
        "le_depression = LabelEncoder()\n",
        "y_encoded['depression_severity'] = le_depression.fit_transform(y_encoded['depression_severity'])\n",
        "\n",
        "le_anxiety = LabelEncoder()\n",
        "y_encoded['anxiety_severity'] = le_anxiety.fit_transform(y_encoded['anxiety_severity'])"
      ]
    },
    {
      "cell_type": "code",
      "execution_count": null,
      "metadata": {
        "id": "FOBC2x-ZEx5u",
        "colab": {
          "base_uri": "https://localhost:8080/"
        },
        "outputId": "5406bb95-7e66-4f6d-f30c-8b7ca415eb62"
      },
      "outputs": [
        {
          "output_type": "stream",
          "name": "stdout",
          "text": [
            "Encoded Independent Variables (x):\n",
            "[[ 0.          1.          9.         11.         33.33333333  7.\n",
            "  19.        ]\n",
            " [ 0.          1.          8.          5.         19.84126984 14.\n",
            "  18.        ]\n",
            " [ 0.          1.          8.          6.         25.10239133  6.\n",
            "  19.        ]\n",
            " [ 1.          0.         19.         15.         23.73866213 11.\n",
            "  18.        ]\n",
            " [ 0.          1.          6.         14.         25.61728395  3.\n",
            "  18.        ]]\n",
            "\n",
            "Encoded Dependent Variables (y):\n",
            "   depression_severity  anxiety_severity\n",
            "0                    0                 2\n",
            "1                    0                 1\n",
            "2                    0                 1\n",
            "3                    2                 4\n",
            "4                    0                 2\n"
          ]
        }
      ],
      "source": [
        "# Display the encoded variables\n",
        "print(\"Encoded Independent Variables (x):\")\n",
        "print(x_encoded[:5])\n",
        "print(\"\\nEncoded Dependent Variables (y):\")\n",
        "print(y_encoded.head())"
      ]
    },
    {
      "cell_type": "code",
      "execution_count": null,
      "metadata": {
        "id": "pyRpjrfvEbHo"
      },
      "outputs": [],
      "source": [
        "#SPLITTING DATASET INTO TRAINING & TESTING SETS"
      ]
    },
    {
      "cell_type": "code",
      "execution_count": null,
      "metadata": {
        "id": "AxFsiqPUEU6-"
      },
      "outputs": [],
      "source": [
        "x_train, x_test, y_train, y_test = train_test_split(x_encoded, y_encoded, test_size = 0.2, random_state = 1)"
      ]
    },
    {
      "cell_type": "code",
      "execution_count": null,
      "metadata": {
        "id": "PHFTo0eJE6Ah",
        "colab": {
          "base_uri": "https://localhost:8080/"
        },
        "outputId": "59803ba4-d416-483f-c766-aad345178149"
      },
      "outputs": [
        {
          "output_type": "stream",
          "name": "stdout",
          "text": [
            "x_train:\n",
            "[[ 1.          0.          7.         11.         19.84126984  9.\n",
            "  21.        ]\n",
            " [ 1.          0.          5.          7.         15.97881665  6.\n",
            "  21.        ]\n",
            " [ 1.          0.          1.          2.         18.96192742  5.\n",
            "  22.        ]\n",
            " [ 1.          0.         23.         13.         20.2020202  14.\n",
            "  20.        ]\n",
            " [ 0.          1.          5.          2.         23.12406059  2.\n",
            "  19.        ]]\n",
            "\n",
            "y_train:\n",
            "     depression_severity  anxiety_severity\n",
            "610                    0                 2\n",
            "578                    0                 1\n",
            "528                    3                 3\n",
            "341                    4                 2\n",
            "352                    0                 3\n",
            "\n",
            "x_test:\n",
            "[[ 0.          1.          5.          4.         23.14814815  0.\n",
            "  22.        ]\n",
            " [ 0.          1.         17.         14.         25.71219869 14.\n",
            "  21.        ]\n",
            " [ 0.          1.          3.          4.         24.48979592  6.\n",
            "  18.        ]\n",
            " [ 1.          0.         10.         10.         20.07733492 14.\n",
            "  19.        ]\n",
            " [ 0.          1.          1.          1.         21.63331531  2.\n",
            "  20.        ]]\n",
            "\n",
            "y_test:\n",
            "     depression_severity  anxiety_severity\n",
            "703                    0                 3\n",
            "265                    2                 2\n",
            "111                    3                 3\n",
            "301                    1                 2\n",
            "339                    3                 3\n"
          ]
        }
      ],
      "source": [
        "#Display training sets\n",
        "print(\"x_train:\")\n",
        "print(x_train[:5])\n",
        "print(\"\\ny_train:\")\n",
        "print(y_train.head())\n",
        "print(\"\\nx_test:\")\n",
        "print(x_test[:5])\n",
        "print(\"\\ny_test:\")\n",
        "print(y_test.head())"
      ]
    },
    {
      "cell_type": "code",
      "execution_count": null,
      "metadata": {
        "id": "7BwK-9c7rz4l"
      },
      "outputs": [],
      "source": [
        "from sklearn.linear_model import LogisticRegression\n",
        "from sklearn.metrics import accuracy_score, precision_score, recall_score, f1_score, confusion_matrix, classification_report\n",
        "import matplotlib.pyplot as plt\n",
        "import seaborn as sns\n",
        "import pandas as pd\n",
        "\n",
        "# 1. Initialize Logistic Regression models with random_state and max_iter\n",
        "model_depression = LogisticRegression(random_state=1, max_iter=1000)\n",
        "model_anxiety = LogisticRegression(random_state=1, max_iter=1000)"
      ]
    },
    {
      "cell_type": "code",
      "execution_count": null,
      "metadata": {
        "id": "iKsKlfJN0bdI",
        "colab": {
          "base_uri": "https://localhost:8080/",
          "height": 358
        },
        "outputId": "eb80123c-6b37-4c04-f64b-935ccc6df16d"
      },
      "outputs": [
        {
          "output_type": "stream",
          "name": "stderr",
          "text": [
            "/usr/local/lib/python3.11/dist-packages/sklearn/linear_model/_logistic.py:465: ConvergenceWarning: lbfgs failed to converge (status=1):\n",
            "STOP: TOTAL NO. of ITERATIONS REACHED LIMIT.\n",
            "\n",
            "Increase the number of iterations (max_iter) or scale the data as shown in:\n",
            "    https://scikit-learn.org/stable/modules/preprocessing.html\n",
            "Please also refer to the documentation for alternative solver options:\n",
            "    https://scikit-learn.org/stable/modules/linear_model.html#logistic-regression\n",
            "  n_iter_i = _check_optimize_result(\n",
            "/usr/local/lib/python3.11/dist-packages/sklearn/linear_model/_logistic.py:465: ConvergenceWarning: lbfgs failed to converge (status=1):\n",
            "STOP: TOTAL NO. of ITERATIONS REACHED LIMIT.\n",
            "\n",
            "Increase the number of iterations (max_iter) or scale the data as shown in:\n",
            "    https://scikit-learn.org/stable/modules/preprocessing.html\n",
            "Please also refer to the documentation for alternative solver options:\n",
            "    https://scikit-learn.org/stable/modules/linear_model.html#logistic-regression\n",
            "  n_iter_i = _check_optimize_result(\n"
          ]
        },
        {
          "output_type": "execute_result",
          "data": {
            "text/plain": [
              "LogisticRegression(max_iter=1000, random_state=1)"
            ],
            "text/html": [
              "<style>#sk-container-id-1 {\n",
              "  /* Definition of color scheme common for light and dark mode */\n",
              "  --sklearn-color-text: #000;\n",
              "  --sklearn-color-text-muted: #666;\n",
              "  --sklearn-color-line: gray;\n",
              "  /* Definition of color scheme for unfitted estimators */\n",
              "  --sklearn-color-unfitted-level-0: #fff5e6;\n",
              "  --sklearn-color-unfitted-level-1: #f6e4d2;\n",
              "  --sklearn-color-unfitted-level-2: #ffe0b3;\n",
              "  --sklearn-color-unfitted-level-3: chocolate;\n",
              "  /* Definition of color scheme for fitted estimators */\n",
              "  --sklearn-color-fitted-level-0: #f0f8ff;\n",
              "  --sklearn-color-fitted-level-1: #d4ebff;\n",
              "  --sklearn-color-fitted-level-2: #b3dbfd;\n",
              "  --sklearn-color-fitted-level-3: cornflowerblue;\n",
              "\n",
              "  /* Specific color for light theme */\n",
              "  --sklearn-color-text-on-default-background: var(--sg-text-color, var(--theme-code-foreground, var(--jp-content-font-color1, black)));\n",
              "  --sklearn-color-background: var(--sg-background-color, var(--theme-background, var(--jp-layout-color0, white)));\n",
              "  --sklearn-color-border-box: var(--sg-text-color, var(--theme-code-foreground, var(--jp-content-font-color1, black)));\n",
              "  --sklearn-color-icon: #696969;\n",
              "\n",
              "  @media (prefers-color-scheme: dark) {\n",
              "    /* Redefinition of color scheme for dark theme */\n",
              "    --sklearn-color-text-on-default-background: var(--sg-text-color, var(--theme-code-foreground, var(--jp-content-font-color1, white)));\n",
              "    --sklearn-color-background: var(--sg-background-color, var(--theme-background, var(--jp-layout-color0, #111)));\n",
              "    --sklearn-color-border-box: var(--sg-text-color, var(--theme-code-foreground, var(--jp-content-font-color1, white)));\n",
              "    --sklearn-color-icon: #878787;\n",
              "  }\n",
              "}\n",
              "\n",
              "#sk-container-id-1 {\n",
              "  color: var(--sklearn-color-text);\n",
              "}\n",
              "\n",
              "#sk-container-id-1 pre {\n",
              "  padding: 0;\n",
              "}\n",
              "\n",
              "#sk-container-id-1 input.sk-hidden--visually {\n",
              "  border: 0;\n",
              "  clip: rect(1px 1px 1px 1px);\n",
              "  clip: rect(1px, 1px, 1px, 1px);\n",
              "  height: 1px;\n",
              "  margin: -1px;\n",
              "  overflow: hidden;\n",
              "  padding: 0;\n",
              "  position: absolute;\n",
              "  width: 1px;\n",
              "}\n",
              "\n",
              "#sk-container-id-1 div.sk-dashed-wrapped {\n",
              "  border: 1px dashed var(--sklearn-color-line);\n",
              "  margin: 0 0.4em 0.5em 0.4em;\n",
              "  box-sizing: border-box;\n",
              "  padding-bottom: 0.4em;\n",
              "  background-color: var(--sklearn-color-background);\n",
              "}\n",
              "\n",
              "#sk-container-id-1 div.sk-container {\n",
              "  /* jupyter's `normalize.less` sets `[hidden] { display: none; }`\n",
              "     but bootstrap.min.css set `[hidden] { display: none !important; }`\n",
              "     so we also need the `!important` here to be able to override the\n",
              "     default hidden behavior on the sphinx rendered scikit-learn.org.\n",
              "     See: https://github.com/scikit-learn/scikit-learn/issues/21755 */\n",
              "  display: inline-block !important;\n",
              "  position: relative;\n",
              "}\n",
              "\n",
              "#sk-container-id-1 div.sk-text-repr-fallback {\n",
              "  display: none;\n",
              "}\n",
              "\n",
              "div.sk-parallel-item,\n",
              "div.sk-serial,\n",
              "div.sk-item {\n",
              "  /* draw centered vertical line to link estimators */\n",
              "  background-image: linear-gradient(var(--sklearn-color-text-on-default-background), var(--sklearn-color-text-on-default-background));\n",
              "  background-size: 2px 100%;\n",
              "  background-repeat: no-repeat;\n",
              "  background-position: center center;\n",
              "}\n",
              "\n",
              "/* Parallel-specific style estimator block */\n",
              "\n",
              "#sk-container-id-1 div.sk-parallel-item::after {\n",
              "  content: \"\";\n",
              "  width: 100%;\n",
              "  border-bottom: 2px solid var(--sklearn-color-text-on-default-background);\n",
              "  flex-grow: 1;\n",
              "}\n",
              "\n",
              "#sk-container-id-1 div.sk-parallel {\n",
              "  display: flex;\n",
              "  align-items: stretch;\n",
              "  justify-content: center;\n",
              "  background-color: var(--sklearn-color-background);\n",
              "  position: relative;\n",
              "}\n",
              "\n",
              "#sk-container-id-1 div.sk-parallel-item {\n",
              "  display: flex;\n",
              "  flex-direction: column;\n",
              "}\n",
              "\n",
              "#sk-container-id-1 div.sk-parallel-item:first-child::after {\n",
              "  align-self: flex-end;\n",
              "  width: 50%;\n",
              "}\n",
              "\n",
              "#sk-container-id-1 div.sk-parallel-item:last-child::after {\n",
              "  align-self: flex-start;\n",
              "  width: 50%;\n",
              "}\n",
              "\n",
              "#sk-container-id-1 div.sk-parallel-item:only-child::after {\n",
              "  width: 0;\n",
              "}\n",
              "\n",
              "/* Serial-specific style estimator block */\n",
              "\n",
              "#sk-container-id-1 div.sk-serial {\n",
              "  display: flex;\n",
              "  flex-direction: column;\n",
              "  align-items: center;\n",
              "  background-color: var(--sklearn-color-background);\n",
              "  padding-right: 1em;\n",
              "  padding-left: 1em;\n",
              "}\n",
              "\n",
              "\n",
              "/* Toggleable style: style used for estimator/Pipeline/ColumnTransformer box that is\n",
              "clickable and can be expanded/collapsed.\n",
              "- Pipeline and ColumnTransformer use this feature and define the default style\n",
              "- Estimators will overwrite some part of the style using the `sk-estimator` class\n",
              "*/\n",
              "\n",
              "/* Pipeline and ColumnTransformer style (default) */\n",
              "\n",
              "#sk-container-id-1 div.sk-toggleable {\n",
              "  /* Default theme specific background. It is overwritten whether we have a\n",
              "  specific estimator or a Pipeline/ColumnTransformer */\n",
              "  background-color: var(--sklearn-color-background);\n",
              "}\n",
              "\n",
              "/* Toggleable label */\n",
              "#sk-container-id-1 label.sk-toggleable__label {\n",
              "  cursor: pointer;\n",
              "  display: flex;\n",
              "  width: 100%;\n",
              "  margin-bottom: 0;\n",
              "  padding: 0.5em;\n",
              "  box-sizing: border-box;\n",
              "  text-align: center;\n",
              "  align-items: start;\n",
              "  justify-content: space-between;\n",
              "  gap: 0.5em;\n",
              "}\n",
              "\n",
              "#sk-container-id-1 label.sk-toggleable__label .caption {\n",
              "  font-size: 0.6rem;\n",
              "  font-weight: lighter;\n",
              "  color: var(--sklearn-color-text-muted);\n",
              "}\n",
              "\n",
              "#sk-container-id-1 label.sk-toggleable__label-arrow:before {\n",
              "  /* Arrow on the left of the label */\n",
              "  content: \"▸\";\n",
              "  float: left;\n",
              "  margin-right: 0.25em;\n",
              "  color: var(--sklearn-color-icon);\n",
              "}\n",
              "\n",
              "#sk-container-id-1 label.sk-toggleable__label-arrow:hover:before {\n",
              "  color: var(--sklearn-color-text);\n",
              "}\n",
              "\n",
              "/* Toggleable content - dropdown */\n",
              "\n",
              "#sk-container-id-1 div.sk-toggleable__content {\n",
              "  max-height: 0;\n",
              "  max-width: 0;\n",
              "  overflow: hidden;\n",
              "  text-align: left;\n",
              "  /* unfitted */\n",
              "  background-color: var(--sklearn-color-unfitted-level-0);\n",
              "}\n",
              "\n",
              "#sk-container-id-1 div.sk-toggleable__content.fitted {\n",
              "  /* fitted */\n",
              "  background-color: var(--sklearn-color-fitted-level-0);\n",
              "}\n",
              "\n",
              "#sk-container-id-1 div.sk-toggleable__content pre {\n",
              "  margin: 0.2em;\n",
              "  border-radius: 0.25em;\n",
              "  color: var(--sklearn-color-text);\n",
              "  /* unfitted */\n",
              "  background-color: var(--sklearn-color-unfitted-level-0);\n",
              "}\n",
              "\n",
              "#sk-container-id-1 div.sk-toggleable__content.fitted pre {\n",
              "  /* unfitted */\n",
              "  background-color: var(--sklearn-color-fitted-level-0);\n",
              "}\n",
              "\n",
              "#sk-container-id-1 input.sk-toggleable__control:checked~div.sk-toggleable__content {\n",
              "  /* Expand drop-down */\n",
              "  max-height: 200px;\n",
              "  max-width: 100%;\n",
              "  overflow: auto;\n",
              "}\n",
              "\n",
              "#sk-container-id-1 input.sk-toggleable__control:checked~label.sk-toggleable__label-arrow:before {\n",
              "  content: \"▾\";\n",
              "}\n",
              "\n",
              "/* Pipeline/ColumnTransformer-specific style */\n",
              "\n",
              "#sk-container-id-1 div.sk-label input.sk-toggleable__control:checked~label.sk-toggleable__label {\n",
              "  color: var(--sklearn-color-text);\n",
              "  background-color: var(--sklearn-color-unfitted-level-2);\n",
              "}\n",
              "\n",
              "#sk-container-id-1 div.sk-label.fitted input.sk-toggleable__control:checked~label.sk-toggleable__label {\n",
              "  background-color: var(--sklearn-color-fitted-level-2);\n",
              "}\n",
              "\n",
              "/* Estimator-specific style */\n",
              "\n",
              "/* Colorize estimator box */\n",
              "#sk-container-id-1 div.sk-estimator input.sk-toggleable__control:checked~label.sk-toggleable__label {\n",
              "  /* unfitted */\n",
              "  background-color: var(--sklearn-color-unfitted-level-2);\n",
              "}\n",
              "\n",
              "#sk-container-id-1 div.sk-estimator.fitted input.sk-toggleable__control:checked~label.sk-toggleable__label {\n",
              "  /* fitted */\n",
              "  background-color: var(--sklearn-color-fitted-level-2);\n",
              "}\n",
              "\n",
              "#sk-container-id-1 div.sk-label label.sk-toggleable__label,\n",
              "#sk-container-id-1 div.sk-label label {\n",
              "  /* The background is the default theme color */\n",
              "  color: var(--sklearn-color-text-on-default-background);\n",
              "}\n",
              "\n",
              "/* On hover, darken the color of the background */\n",
              "#sk-container-id-1 div.sk-label:hover label.sk-toggleable__label {\n",
              "  color: var(--sklearn-color-text);\n",
              "  background-color: var(--sklearn-color-unfitted-level-2);\n",
              "}\n",
              "\n",
              "/* Label box, darken color on hover, fitted */\n",
              "#sk-container-id-1 div.sk-label.fitted:hover label.sk-toggleable__label.fitted {\n",
              "  color: var(--sklearn-color-text);\n",
              "  background-color: var(--sklearn-color-fitted-level-2);\n",
              "}\n",
              "\n",
              "/* Estimator label */\n",
              "\n",
              "#sk-container-id-1 div.sk-label label {\n",
              "  font-family: monospace;\n",
              "  font-weight: bold;\n",
              "  display: inline-block;\n",
              "  line-height: 1.2em;\n",
              "}\n",
              "\n",
              "#sk-container-id-1 div.sk-label-container {\n",
              "  text-align: center;\n",
              "}\n",
              "\n",
              "/* Estimator-specific */\n",
              "#sk-container-id-1 div.sk-estimator {\n",
              "  font-family: monospace;\n",
              "  border: 1px dotted var(--sklearn-color-border-box);\n",
              "  border-radius: 0.25em;\n",
              "  box-sizing: border-box;\n",
              "  margin-bottom: 0.5em;\n",
              "  /* unfitted */\n",
              "  background-color: var(--sklearn-color-unfitted-level-0);\n",
              "}\n",
              "\n",
              "#sk-container-id-1 div.sk-estimator.fitted {\n",
              "  /* fitted */\n",
              "  background-color: var(--sklearn-color-fitted-level-0);\n",
              "}\n",
              "\n",
              "/* on hover */\n",
              "#sk-container-id-1 div.sk-estimator:hover {\n",
              "  /* unfitted */\n",
              "  background-color: var(--sklearn-color-unfitted-level-2);\n",
              "}\n",
              "\n",
              "#sk-container-id-1 div.sk-estimator.fitted:hover {\n",
              "  /* fitted */\n",
              "  background-color: var(--sklearn-color-fitted-level-2);\n",
              "}\n",
              "\n",
              "/* Specification for estimator info (e.g. \"i\" and \"?\") */\n",
              "\n",
              "/* Common style for \"i\" and \"?\" */\n",
              "\n",
              ".sk-estimator-doc-link,\n",
              "a:link.sk-estimator-doc-link,\n",
              "a:visited.sk-estimator-doc-link {\n",
              "  float: right;\n",
              "  font-size: smaller;\n",
              "  line-height: 1em;\n",
              "  font-family: monospace;\n",
              "  background-color: var(--sklearn-color-background);\n",
              "  border-radius: 1em;\n",
              "  height: 1em;\n",
              "  width: 1em;\n",
              "  text-decoration: none !important;\n",
              "  margin-left: 0.5em;\n",
              "  text-align: center;\n",
              "  /* unfitted */\n",
              "  border: var(--sklearn-color-unfitted-level-1) 1pt solid;\n",
              "  color: var(--sklearn-color-unfitted-level-1);\n",
              "}\n",
              "\n",
              ".sk-estimator-doc-link.fitted,\n",
              "a:link.sk-estimator-doc-link.fitted,\n",
              "a:visited.sk-estimator-doc-link.fitted {\n",
              "  /* fitted */\n",
              "  border: var(--sklearn-color-fitted-level-1) 1pt solid;\n",
              "  color: var(--sklearn-color-fitted-level-1);\n",
              "}\n",
              "\n",
              "/* On hover */\n",
              "div.sk-estimator:hover .sk-estimator-doc-link:hover,\n",
              ".sk-estimator-doc-link:hover,\n",
              "div.sk-label-container:hover .sk-estimator-doc-link:hover,\n",
              ".sk-estimator-doc-link:hover {\n",
              "  /* unfitted */\n",
              "  background-color: var(--sklearn-color-unfitted-level-3);\n",
              "  color: var(--sklearn-color-background);\n",
              "  text-decoration: none;\n",
              "}\n",
              "\n",
              "div.sk-estimator.fitted:hover .sk-estimator-doc-link.fitted:hover,\n",
              ".sk-estimator-doc-link.fitted:hover,\n",
              "div.sk-label-container:hover .sk-estimator-doc-link.fitted:hover,\n",
              ".sk-estimator-doc-link.fitted:hover {\n",
              "  /* fitted */\n",
              "  background-color: var(--sklearn-color-fitted-level-3);\n",
              "  color: var(--sklearn-color-background);\n",
              "  text-decoration: none;\n",
              "}\n",
              "\n",
              "/* Span, style for the box shown on hovering the info icon */\n",
              ".sk-estimator-doc-link span {\n",
              "  display: none;\n",
              "  z-index: 9999;\n",
              "  position: relative;\n",
              "  font-weight: normal;\n",
              "  right: .2ex;\n",
              "  padding: .5ex;\n",
              "  margin: .5ex;\n",
              "  width: min-content;\n",
              "  min-width: 20ex;\n",
              "  max-width: 50ex;\n",
              "  color: var(--sklearn-color-text);\n",
              "  box-shadow: 2pt 2pt 4pt #999;\n",
              "  /* unfitted */\n",
              "  background: var(--sklearn-color-unfitted-level-0);\n",
              "  border: .5pt solid var(--sklearn-color-unfitted-level-3);\n",
              "}\n",
              "\n",
              ".sk-estimator-doc-link.fitted span {\n",
              "  /* fitted */\n",
              "  background: var(--sklearn-color-fitted-level-0);\n",
              "  border: var(--sklearn-color-fitted-level-3);\n",
              "}\n",
              "\n",
              ".sk-estimator-doc-link:hover span {\n",
              "  display: block;\n",
              "}\n",
              "\n",
              "/* \"?\"-specific style due to the `<a>` HTML tag */\n",
              "\n",
              "#sk-container-id-1 a.estimator_doc_link {\n",
              "  float: right;\n",
              "  font-size: 1rem;\n",
              "  line-height: 1em;\n",
              "  font-family: monospace;\n",
              "  background-color: var(--sklearn-color-background);\n",
              "  border-radius: 1rem;\n",
              "  height: 1rem;\n",
              "  width: 1rem;\n",
              "  text-decoration: none;\n",
              "  /* unfitted */\n",
              "  color: var(--sklearn-color-unfitted-level-1);\n",
              "  border: var(--sklearn-color-unfitted-level-1) 1pt solid;\n",
              "}\n",
              "\n",
              "#sk-container-id-1 a.estimator_doc_link.fitted {\n",
              "  /* fitted */\n",
              "  border: var(--sklearn-color-fitted-level-1) 1pt solid;\n",
              "  color: var(--sklearn-color-fitted-level-1);\n",
              "}\n",
              "\n",
              "/* On hover */\n",
              "#sk-container-id-1 a.estimator_doc_link:hover {\n",
              "  /* unfitted */\n",
              "  background-color: var(--sklearn-color-unfitted-level-3);\n",
              "  color: var(--sklearn-color-background);\n",
              "  text-decoration: none;\n",
              "}\n",
              "\n",
              "#sk-container-id-1 a.estimator_doc_link.fitted:hover {\n",
              "  /* fitted */\n",
              "  background-color: var(--sklearn-color-fitted-level-3);\n",
              "}\n",
              "</style><div id=\"sk-container-id-1\" class=\"sk-top-container\"><div class=\"sk-text-repr-fallback\"><pre>LogisticRegression(max_iter=1000, random_state=1)</pre><b>In a Jupyter environment, please rerun this cell to show the HTML representation or trust the notebook. <br />On GitHub, the HTML representation is unable to render, please try loading this page with nbviewer.org.</b></div><div class=\"sk-container\" hidden><div class=\"sk-item\"><div class=\"sk-estimator fitted sk-toggleable\"><input class=\"sk-toggleable__control sk-hidden--visually\" id=\"sk-estimator-id-1\" type=\"checkbox\" checked><label for=\"sk-estimator-id-1\" class=\"sk-toggleable__label fitted sk-toggleable__label-arrow\"><div><div>LogisticRegression</div></div><div><a class=\"sk-estimator-doc-link fitted\" rel=\"noreferrer\" target=\"_blank\" href=\"https://scikit-learn.org/1.6/modules/generated/sklearn.linear_model.LogisticRegression.html\">?<span>Documentation for LogisticRegression</span></a><span class=\"sk-estimator-doc-link fitted\">i<span>Fitted</span></span></div></label><div class=\"sk-toggleable__content fitted\"><pre>LogisticRegression(max_iter=1000, random_state=1)</pre></div> </div></div></div></div>"
            ]
          },
          "metadata": {},
          "execution_count": 28
        }
      ],
      "source": [
        "# 2. Train the models with training data\n",
        "model_depression.fit(x_train, y_train['depression_severity'])\n",
        "model_anxiety.fit(x_train, y_train['anxiety_severity'])"
      ]
    },
    {
      "cell_type": "code",
      "execution_count": null,
      "metadata": {
        "id": "M56GgQMF0iPQ"
      },
      "outputs": [],
      "source": [
        "# 3. Make predictions using the test data\n",
        "y_pred_depression = model_depression.predict(x_test)\n",
        "y_pred_anxiety = model_anxiety.predict(x_test)"
      ]
    },
    {
      "cell_type": "code",
      "execution_count": null,
      "metadata": {
        "id": "GoFdxoCB0luC"
      },
      "outputs": [],
      "source": [
        "# 4. Evaluate the models (Accuracy, Precision, Recall, F1-Score)\n",
        "accuracy_depression = accuracy_score(y_test['depression_severity'], y_pred_depression)\n",
        "accuracy_anxiety = accuracy_score(y_test['anxiety_severity'], y_pred_anxiety)"
      ]
    },
    {
      "cell_type": "code",
      "execution_count": null,
      "metadata": {
        "id": "YdAVgSBd0rGz"
      },
      "outputs": [],
      "source": [
        "# Use zero_division=1 to handle the undefined precision issue\n",
        "precision_depression = precision_score(y_test['depression_severity'], y_pred_depression, average='weighted', zero_division=1)\n",
        "precision_anxiety = precision_score(y_test['anxiety_severity'], y_pred_anxiety, average='weighted', zero_division=1)"
      ]
    },
    {
      "cell_type": "code",
      "execution_count": null,
      "metadata": {
        "id": "l70yhCtr0wU7"
      },
      "outputs": [],
      "source": [
        "recall_depression = recall_score(y_test['depression_severity'], y_pred_depression, average='weighted', zero_division=1)\n",
        "recall_anxiety = recall_score(y_test['anxiety_severity'], y_pred_anxiety, average='weighted', zero_division=1)"
      ]
    },
    {
      "cell_type": "code",
      "execution_count": null,
      "metadata": {
        "id": "djvfd2_a0y-s"
      },
      "outputs": [],
      "source": [
        "f1_depression = f1_score(y_test['depression_severity'], y_pred_depression, average='weighted', zero_division=1)\n",
        "f1_anxiety = f1_score(y_test['anxiety_severity'], y_pred_anxiety, average='weighted', zero_division=1)"
      ]
    },
    {
      "cell_type": "code",
      "execution_count": null,
      "metadata": {
        "id": "A8n90GQA0zhD",
        "colab": {
          "base_uri": "https://localhost:8080/"
        },
        "outputId": "22abf600-bedb-4264-c8ad-7fa0c6ded2f4"
      },
      "outputs": [
        {
          "output_type": "stream",
          "name": "stdout",
          "text": [
            "Depression Model Evaluation:\n",
            "Accuracy: 96.18%\n",
            "Precision: 0.98\n",
            "Recall: 0.96\n",
            "F1 Score: 0.96\n"
          ]
        }
      ],
      "source": [
        "# Print out the scores\n",
        "print(\"Depression Model Evaluation:\")\n",
        "print(f\"Accuracy: {accuracy_depression * 100:.2f}%\")\n",
        "print(f\"Precision: {precision_depression:.2f}\")\n",
        "print(f\"Recall: {recall_depression:.2f}\")\n",
        "print(f\"F1 Score: {f1_depression:.2f}\")"
      ]
    },
    {
      "cell_type": "code",
      "execution_count": null,
      "metadata": {
        "id": "8zZVW8_305nE",
        "colab": {
          "base_uri": "https://localhost:8080/"
        },
        "outputId": "529217a7-cd6c-4664-eec4-c6924220a69d"
      },
      "outputs": [
        {
          "output_type": "stream",
          "name": "stdout",
          "text": [
            "Anxiety Model Evaluation:\n",
            "Accuracy: 96.82%\n",
            "Precision: 0.96\n",
            "Recall: 0.97\n",
            "F1 Score: 0.97\n"
          ]
        }
      ],
      "source": [
        "print(\"Anxiety Model Evaluation:\")\n",
        "print(f\"Accuracy: {accuracy_anxiety * 100:.2f}%\")\n",
        "print(f\"Precision: {precision_anxiety:.2f}\")\n",
        "print(f\"Recall: {recall_anxiety:.2f}\")\n",
        "print(f\"F1 Score: {f1_anxiety:.2f}\")"
      ]
    },
    {
      "cell_type": "code",
      "execution_count": null,
      "metadata": {
        "id": "bEbMYssu06Lq",
        "colab": {
          "base_uri": "https://localhost:8080/",
          "height": 525
        },
        "outputId": "56d2bb0a-4ea2-4acc-d033-f57cd99ce2e6"
      },
      "outputs": [
        {
          "output_type": "display_data",
          "data": {
            "text/plain": [
              "<Figure size 600x400 with 2 Axes>"
            ],
            "image/png": "[encoded data removed]"
          },
          "metadata": {}
        }
      ],
      "source": [
        "# 5. Display confusion matrix for depression\n",
        "cm_depression = confusion_matrix(y_test['depression_severity'], y_pred_depression)\n",
        "plt.figure(figsize=(6, 4))\n",
        "sns.heatmap(cm_depression, annot=True, fmt='d', cmap='Blues', xticklabels=le_depression.classes_, yticklabels=le_depression.classes_)\n",
        "plt.title('Confusion Matrix for Depression Severity Prediction')\n",
        "plt.xlabel('Predicted')\n",
        "plt.ylabel('Actual')\n",
        "plt.show()"
      ]
    },
    {
      "cell_type": "code",
      "execution_count": null,
      "metadata": {
        "id": "aBKTK4W90_Uz",
        "colab": {
          "base_uri": "https://localhost:8080/",
          "height": 493
        },
        "outputId": "a0af9638-385f-42d3-b42a-d3071286d426"
      },
      "outputs": [
        {
          "output_type": "display_data",
          "data": {
            "text/plain": [
              "<Figure size 600x400 with 2 Axes>"
            ],
            "image/png": "[encoded data removed]"
          },
          "metadata": {}
        }
      ],
      "source": [
        "# 6. Display confusion matrix for anxiety\n",
        "cm_anxiety = confusion_matrix(y_test['anxiety_severity'], y_pred_anxiety)\n",
        "plt.figure(figsize=(6, 4))\n",
        "sns.heatmap(cm_anxiety, annot=True, fmt='d', cmap='Blues', xticklabels=le_anxiety.classes_, yticklabels=le_anxiety.classes_)\n",
        "plt.title('Confusion Matrix for Anxiety Severity Prediction')\n",
        "plt.xlabel('Predicted')\n",
        "plt.ylabel('Actual')\n",
        "plt.show()"
      ]
    },
    {
      "cell_type": "code",
      "execution_count": null,
      "metadata": {
        "id": "XaClfotf1B2Q"
      },
      "outputs": [],
      "source": [
        "# 7. Accuracy Comparison Bar Plot\n",
        "accuracies = [accuracy_depression * 100, accuracy_anxiety * 100]\n",
        "precisions = [precision_depression * 100, precision_anxiety * 100]\n",
        "recalls = [recall_depression * 100, recall_anxiety * 100]\n",
        "f1_scores = [f1_depression * 100, f1_anxiety * 100]\n",
        "models = ['Depression Severity', 'Anxiety Severity']"
      ]
    },
    {
      "cell_type": "code",
      "execution_count": null,
      "metadata": {
        "id": "C4ocgtjU1EJr"
      },
      "outputs": [],
      "source": [
        "# Create a DataFrame for visualization\n",
        "score_data = pd.DataFrame({\n",
        "    'Model': models,\n",
        "    'Accuracy': accuracies,\n",
        "    'Precision': precisions,\n",
        "    'Recall': recalls,\n",
        "    'F1 Score': f1_scores\n",
        "})"
      ]
    },
    {
      "cell_type": "code",
      "execution_count": null,
      "metadata": {
        "id": "6UtSxPAq2gAv",
        "colab": {
          "base_uri": "https://localhost:8080/",
          "height": 564
        },
        "outputId": "cba1e8fe-8981-4979-b862-0c5b3bde78ca"
      },
      "outputs": [
        {
          "output_type": "display_data",
          "data": {
            "text/plain": [
              "<Figure size 1000x600 with 1 Axes>"
            ],
            "image/png": "[encoded data removed]"
          },
          "metadata": {}
        }
      ],
      "source": [
        "# Plot the metrics\n",
        "score_data.set_index('Model').plot(kind='bar', figsize=(10, 6))\n",
        "plt.title('Model Performance Comparison')\n",
        "plt.ylabel('Score (%)')\n",
        "plt.xticks(rotation=0)\n",
        "plt.show()"
      ]
    },
    {
      "cell_type": "code",
      "execution_count": null,
      "metadata": {
        "id": "lonlq66b2g02",
        "colab": {
          "base_uri": "https://localhost:8080/"
        },
        "outputId": "bfb2f531-a437-4c65-d621-21b63377eade"
      },
      "outputs": [
        {
          "output_type": "stream",
          "name": "stdout",
          "text": [
            "\n",
            "Depression Model Classification Report:\n",
            "              precision    recall  f1-score   support\n",
            "\n",
            "           0       1.00      1.00      1.00        70\n",
            "           1       0.96      1.00      0.98        27\n",
            "           2       1.00      0.50      0.67         8\n",
            "           3       0.96      1.00      0.98        47\n",
            "           4       0.25      1.00      0.40         1\n",
            "           5       1.00      0.67      0.80         3\n",
            "           6       1.00      0.00      0.00         1\n",
            "\n",
            "    accuracy                           0.96       157\n",
            "   macro avg       0.88      0.74      0.69       157\n",
            "weighted avg       0.98      0.96      0.96       157\n",
            "\n",
            "\n",
            "Anxiety Model Classification Report:\n",
            "              precision    recall  f1-score   support\n",
            "\n",
            "           0       0.00      0.00      0.00         2\n",
            "           1       1.00      1.00      1.00        49\n",
            "           2       0.97      0.97      0.97        29\n",
            "           3       0.97      0.98      0.98        62\n",
            "           4       0.93      0.93      0.93        15\n",
            "\n",
            "    accuracy                           0.97       157\n",
            "   macro avg       0.77      0.78      0.77       157\n",
            "weighted avg       0.96      0.97      0.97       157\n",
            "\n"
          ]
        }
      ],
      "source": [
        "# Optionally, print classification reports for detailed metrics\n",
        "print(\"\\nDepression Model Classification Report:\")\n",
        "print(classification_report(y_test['depression_severity'], y_pred_depression, zero_division=1))\n",
        "\n",
        "print(\"\\nAnxiety Model Classification Report:\")\n",
        "print(classification_report(y_test['anxiety_severity'], y_pred_anxiety, zero_division=1))"
      ]
    },
    {
      "cell_type": "code",
      "execution_count": null,
      "metadata": {
        "id": "CLXb4uhh3KYJ",
        "colab": {
          "base_uri": "https://localhost:8080/",
          "height": 570
        },
        "outputId": "6369dcf2-459f-4db9-9f6c-cdf7dec5b83a"
      },
      "outputs": [
        {
          "output_type": "display_data",
          "data": {
            "text/plain": [
              "<Figure size 800x600 with 1 Axes>"
            ],
            "image/png": "[encoded data removed]"
          },
          "metadata": {}
        }
      ],
      "source": [
        "# Create the bar plot with `hue` as `x` to avoid the warning\n",
        "plt.figure(figsize=(8, 6))\n",
        "sns.barplot(x='Model', y='Accuracy (%)', data=pd.DataFrame({\n",
        "    'Model': models, 'Accuracy (%)': accuracies\n",
        "}), palette='viridis', hue='Model', legend=False)\n",
        "\n",
        "# Add title and labels\n",
        "plt.title('Model Accuracy Comparison', fontsize=16)\n",
        "plt.xlabel('Model', fontsize=12)\n",
        "plt.ylabel('Accuracy (%)', fontsize=12)\n",
        "\n",
        "# Show the plot\n",
        "plt.show()"
      ]
    },
    {
      "cell_type": "code",
      "execution_count": null,
      "metadata": {
        "colab": {
          "base_uri": "https://localhost:8080/",
          "height": 408
        },
        "id": "fVNofBSGAlHY",
        "outputId": "213512c0-92df-4a85-90cf-a765e21adb90"
      },
      "outputs": [
        {
          "name": "stdout",
          "output_type": "stream",
          "text": [
            "\n",
            "Enter the following details to check for\n",
            " Depression and Anxiety Severity:\n",
            "\n",
            "Gender (male/female): \n"
          ]
        },
        {
          "output_type": "error",
          "ename": "KeyboardInterrupt",
          "evalue": "Interrupted by user",
          "traceback": [
            "\u001b[0;31m---------------------------------------------------------------------------\u001b[0m",
            "\u001b[0;31mKeyboardInterrupt\u001b[0m                         Traceback (most recent call last)",
            "\u001b[0;32m<ipython-input-43-15d00f553cd5>\u001b[0m in \u001b[0;36m<cell line: 0>\u001b[0;34m()\u001b[0m\n\u001b[1;32m     35\u001b[0m \u001b[0;34m\u001b[0m\u001b[0m\n\u001b[1;32m     36\u001b[0m \u001b[0;31m# Call function to take input and predict\u001b[0m\u001b[0;34m\u001b[0m\u001b[0;34m\u001b[0m\u001b[0m\n\u001b[0;32m---> 37\u001b[0;31m \u001b[0mpredict_severity\u001b[0m\u001b[0;34m(\u001b[0m\u001b[0;34m)\u001b[0m\u001b[0;34m\u001b[0m\u001b[0;34m\u001b[0m\u001b[0m\n\u001b[0m",
            "\u001b[0;32m<ipython-input-43-15d00f553cd5>\u001b[0m in \u001b[0;36mpredict_severity\u001b[0;34m()\u001b[0m\n\u001b[1;32m      6\u001b[0m     \u001b[0mprint\u001b[0m\u001b[0;34m(\u001b[0m\u001b[0;34m\"\\nEnter the following details to check for\\n Depression and Anxiety Severity:\\n\"\u001b[0m\u001b[0;34m)\u001b[0m\u001b[0;34m\u001b[0m\u001b[0;34m\u001b[0m\u001b[0m\n\u001b[1;32m      7\u001b[0m     \u001b[0mgender\u001b[0m \u001b[0;34m=\u001b[0m \u001b[0minput\u001b[0m\u001b[0;34m(\u001b[0m\u001b[0;34m\"Gender (male/female): \"\u001b[0m\u001b[0;34m)\u001b[0m\u001b[0;34m.\u001b[0m\u001b[0mstrip\u001b[0m\u001b[0;34m(\u001b[0m\u001b[0;34m)\u001b[0m\u001b[0;34m.\u001b[0m\u001b[0mlower\u001b[0m\u001b[0;34m(\u001b[0m\u001b[0;34m)\u001b[0m\u001b[0;34m\u001b[0m\u001b[0;34m\u001b[0m\u001b[0m\n\u001b[0;32m----> 8\u001b[0;31m     \u001b[0mphq_score\u001b[0m \u001b[0;34m=\u001b[0m \u001b[0mfloat\u001b[0m\u001b[0;34m(\u001b[0m\u001b[0minput\u001b[0m\u001b[0;34m(\u001b[0m\u001b[0;34m\"PHQ Score: \"\u001b[0m\u001b[0;34m)\u001b[0m\u001b[0;34m)\u001b[0m\u001b[0;34m\u001b[0m\u001b[0;34m\u001b[0m\u001b[0m\n\u001b[0m\u001b[1;32m      9\u001b[0m     \u001b[0mgad_score\u001b[0m \u001b[0;34m=\u001b[0m \u001b[0mfloat\u001b[0m\u001b[0;34m(\u001b[0m\u001b[0minput\u001b[0m\u001b[0;34m(\u001b[0m\u001b[0;34m\"GAD Score: \"\u001b[0m\u001b[0;34m)\u001b[0m\u001b[0;34m)\u001b[0m\u001b[0;34m\u001b[0m\u001b[0;34m\u001b[0m\u001b[0m\n\u001b[1;32m     10\u001b[0m     \u001b[0mbmi\u001b[0m \u001b[0;34m=\u001b[0m \u001b[0mfloat\u001b[0m\u001b[0;34m(\u001b[0m\u001b[0minput\u001b[0m\u001b[0;34m(\u001b[0m\u001b[0;34m\"BMI: \"\u001b[0m\u001b[0;34m)\u001b[0m\u001b[0;34m)\u001b[0m\u001b[0;34m\u001b[0m\u001b[0;34m\u001b[0m\u001b[0m\n",
            "\u001b[0;32m/usr/local/lib/python3.11/dist-packages/ipykernel/kernelbase.py\u001b[0m in \u001b[0;36mraw_input\u001b[0;34m(self, prompt)\u001b[0m\n\u001b[1;32m   1175\u001b[0m                 \u001b[0;34m\"raw_input was called, but this frontend does not support input requests.\"\u001b[0m\u001b[0;34m\u001b[0m\u001b[0;34m\u001b[0m\u001b[0m\n\u001b[1;32m   1176\u001b[0m             )\n\u001b[0;32m-> 1177\u001b[0;31m         return self._input_request(\n\u001b[0m\u001b[1;32m   1178\u001b[0m             \u001b[0mstr\u001b[0m\u001b[0;34m(\u001b[0m\u001b[0mprompt\u001b[0m\u001b[0;34m)\u001b[0m\u001b[0;34m,\u001b[0m\u001b[0;34m\u001b[0m\u001b[0;34m\u001b[0m\u001b[0m\n\u001b[1;32m   1179\u001b[0m             \u001b[0mself\u001b[0m\u001b[0;34m.\u001b[0m\u001b[0m_parent_ident\u001b[0m\u001b[0;34m[\u001b[0m\u001b[0;34m\"shell\"\u001b[0m\u001b[0;34m]\u001b[0m\u001b[0;34m,\u001b[0m\u001b[0;34m\u001b[0m\u001b[0;34m\u001b[0m\u001b[0m\n",
            "\u001b[0;32m/usr/local/lib/python3.11/dist-packages/ipykernel/kernelbase.py\u001b[0m in \u001b[0;36m_input_request\u001b[0;34m(self, prompt, ident, parent, password)\u001b[0m\n\u001b[1;32m   1217\u001b[0m             \u001b[0;32mexcept\u001b[0m \u001b[0mKeyboardInterrupt\u001b[0m\u001b[0;34m:\u001b[0m\u001b[0;34m\u001b[0m\u001b[0;34m\u001b[0m\u001b[0m\n\u001b[1;32m   1218\u001b[0m                 \u001b[0;31m# re-raise KeyboardInterrupt, to truncate traceback\u001b[0m\u001b[0;34m\u001b[0m\u001b[0;34m\u001b[0m\u001b[0m\n\u001b[0;32m-> 1219\u001b[0;31m                 \u001b[0;32mraise\u001b[0m \u001b[0mKeyboardInterrupt\u001b[0m\u001b[0;34m(\u001b[0m\u001b[0;34m\"Interrupted by user\"\u001b[0m\u001b[0;34m)\u001b[0m \u001b[0;32mfrom\u001b[0m \u001b[0;32mNone\u001b[0m\u001b[0;34m\u001b[0m\u001b[0;34m\u001b[0m\u001b[0m\n\u001b[0m\u001b[1;32m   1220\u001b[0m             \u001b[0;32mexcept\u001b[0m \u001b[0mException\u001b[0m\u001b[0;34m:\u001b[0m\u001b[0;34m\u001b[0m\u001b[0;34m\u001b[0m\u001b[0m\n\u001b[1;32m   1221\u001b[0m                 \u001b[0mself\u001b[0m\u001b[0;34m.\u001b[0m\u001b[0mlog\u001b[0m\u001b[0;34m.\u001b[0m\u001b[0mwarning\u001b[0m\u001b[0;34m(\u001b[0m\u001b[0;34m\"Invalid Message:\"\u001b[0m\u001b[0;34m,\u001b[0m \u001b[0mexc_info\u001b[0m\u001b[0;34m=\u001b[0m\u001b[0;32mTrue\u001b[0m\u001b[0;34m)\u001b[0m\u001b[0;34m\u001b[0m\u001b[0;34m\u001b[0m\u001b[0m\n",
            "\u001b[0;31mKeyboardInterrupt\u001b[0m: Interrupted by user"
          ]
        }
      ],
      "source": [
        "import numpy as np\n",
        "\n",
        "# Function to predict depression and anxiety severity\n",
        "\n",
        "def predict_severity():\n",
        "    print(\"\\nEnter the following details to check for\\n Depression and Anxiety Severity:\\n\")\n",
        "    gender = input(\"Gender (male/female): \").strip().lower()\n",
        "    phq_score = float(input(\"PHQ Score: \"))\n",
        "    gad_score = float(input(\"GAD Score: \"))\n",
        "    bmi = float(input(\"BMI: \"))\n",
        "    epworth_score = float(input(\"Epworth Score: \"))\n",
        "    age = int(input(\"Age: \"))\n",
        "\n",
        "    # Encode gender as done before (OneHotEncoder)\n",
        "    gender_encoded = [1, 0] if gender == \"female\" else [0, 1]  # [Female, Male]\n",
        "\n",
        "    # Create input array\n",
        "    user_data = np.array([gender_encoded + [phq_score, gad_score, bmi, epworth_score, age]])\n",
        "\n",
        "    # Make predictions\n",
        "    depression_prediction = model_depression.predict(user_data)[0]\n",
        "    anxiety_prediction = model_anxiety.predict(user_data)[0]\n",
        "\n",
        "    # Convert back to labels\n",
        "    depression_label = le_depression.inverse_transform([depression_prediction])[0]\n",
        "    anxiety_label = le_anxiety.inverse_transform([anxiety_prediction])[0]\n",
        "\n",
        "    # Determine Yes/No severity\n",
        "    depression_result = \"Yes\" if depression_label.lower() in [\"moderate\", \"moderately severe\", \"severe\"] else \"No\"\n",
        "    anxiety_result = \"Yes\" if anxiety_label.lower() in [\"moderate\", \"severe\"] else \"No\"\n",
        "\n",
        "    print(\"\\nResults:\")\n",
        "    print(f\"Depression Severity: {depression_result}\")\n",
        "    print(f\"Anxiety Severity: {anxiety_result}\")\n",
        "\n",
        "# Call function to take input and predict\n",
        "predict_severity()\n"
      ]
    },
    {
      "cell_type": "code",
      "execution_count": null,
      "metadata": {
        "id": "qRUSL2fMbl3m"
      },
      "outputs": [],
      "source": []
    },
    {
      "cell_type": "code",
      "source": [],
      "metadata": {
        "id": "8vSlFQN_TOT4"
      },
      "execution_count": null,
      "outputs": []
    },
    {
      "cell_type": "markdown",
      "source": [
        "**SVM**"
      ],
      "metadata": {
        "id": "AOxCc4d4Vox1"
      }
    },
    {
      "cell_type": "code",
      "source": [
        "import pandas as pd\n",
        "import numpy as np\n",
        "import matplotlib.pyplot as plt\n",
        "import seaborn as sns\n",
        "from sklearn.model_selection import train_test_split\n",
        "from sklearn.preprocessing import StandardScaler\n",
        "from sklearn.svm import SVC\n",
        "from sklearn.metrics import accuracy_score, classification_report, confusion_matrix"
      ],
      "metadata": {
        "id": "xmtoROopPhm6"
      },
      "execution_count": null,
      "outputs": []
    },
    {
      "cell_type": "code",
      "source": [
        "# Standardize features\n",
        "scaler = StandardScaler()\n",
        "x_train = scaler.fit_transform(x_train)\n",
        "x_test = scaler.transform(x_test)\n",
        "\n",
        "# Train SVM model for depression\n",
        "svm_depression = SVC(kernel='linear', random_state=42)\n",
        "svm_depression.fit(x_train, y_train['depression_severity'])\n",
        "\n",
        "# Train SVM model for anxiety\n",
        "svm_anxiety = SVC(kernel='linear', random_state=42)\n",
        "svm_anxiety.fit(x_train, y_train['anxiety_severity'])\n",
        "\n",
        "# Predictions\n",
        "y_pred_depression = svm_depression.predict(x_test)\n",
        "y_pred_anxiety = svm_anxiety.predict(x_test)\n"
      ],
      "metadata": {
        "id": "lFluERHxPkoX"
      },
      "execution_count": null,
      "outputs": []
    },
    {
      "cell_type": "code",
      "source": [
        "# Evaluation\n",
        "print(\"Depression Model Performance:\")\n",
        "print(classification_report(y_test['depression_severity'], y_pred_depression))\n",
        "print(\"Accuracy:\", accuracy_score(y_test['depression_severity'], y_pred_depression))\n",
        "\n",
        "print(\"\\nAnxiety Model Performance:\")\n",
        "print(classification_report(y_test['anxiety_severity'], y_pred_anxiety))\n",
        "print(\"Accuracy:\", accuracy_score(y_test['anxiety_severity'], y_pred_anxiety))"
      ],
      "metadata": {
        "colab": {
          "base_uri": "https://localhost:8080/"
        },
        "id": "R5ETUwrpPzvy",
        "outputId": "58f4931e-2840-4baa-bc2a-63dda86fb1b5"
      },
      "execution_count": null,
      "outputs": [
        {
          "output_type": "stream",
          "name": "stdout",
          "text": [
            "Depression Model Performance:\n",
            "              precision    recall  f1-score   support\n",
            "\n",
            "           0       1.00      1.00      1.00        70\n",
            "           1       0.96      1.00      0.98        27\n",
            "           2       1.00      0.75      0.86         8\n",
            "           3       0.94      1.00      0.97        47\n",
            "           4       0.50      1.00      0.67         1\n",
            "           5       1.00      0.33      0.50         3\n",
            "           6       0.00      0.00      0.00         1\n",
            "\n",
            "    accuracy                           0.97       157\n",
            "   macro avg       0.77      0.73      0.71       157\n",
            "weighted avg       0.97      0.97      0.96       157\n",
            "\n",
            "Accuracy: 0.9681528662420382\n",
            "\n",
            "Anxiety Model Performance:\n",
            "              precision    recall  f1-score   support\n",
            "\n",
            "           0       0.00      0.00      0.00         2\n",
            "           1       1.00      1.00      1.00        49\n",
            "           2       0.97      0.97      0.97        29\n",
            "           3       0.97      0.98      0.98        62\n",
            "           4       0.93      0.93      0.93        15\n",
            "\n",
            "    accuracy                           0.97       157\n",
            "   macro avg       0.77      0.78      0.77       157\n",
            "weighted avg       0.96      0.97      0.97       157\n",
            "\n",
            "Accuracy: 0.9681528662420382\n"
          ]
        },
        {
          "output_type": "stream",
          "name": "stderr",
          "text": [
            "/usr/local/lib/python3.11/dist-packages/sklearn/metrics/_classification.py:1565: UndefinedMetricWarning: Precision is ill-defined and being set to 0.0 in labels with no predicted samples. Use `zero_division` parameter to control this behavior.\n",
            "  _warn_prf(average, modifier, f\"{metric.capitalize()} is\", len(result))\n",
            "/usr/local/lib/python3.11/dist-packages/sklearn/metrics/_classification.py:1565: UndefinedMetricWarning: Precision is ill-defined and being set to 0.0 in labels with no predicted samples. Use `zero_division` parameter to control this behavior.\n",
            "  _warn_prf(average, modifier, f\"{metric.capitalize()} is\", len(result))\n",
            "/usr/local/lib/python3.11/dist-packages/sklearn/metrics/_classification.py:1565: UndefinedMetricWarning: Precision is ill-defined and being set to 0.0 in labels with no predicted samples. Use `zero_division` parameter to control this behavior.\n",
            "  _warn_prf(average, modifier, f\"{metric.capitalize()} is\", len(result))\n"
          ]
        }
      ]
    },
    {
      "cell_type": "code",
      "source": [
        "# Confusion Matrix for Depression\n",
        "cm_depression = confusion_matrix(y_test['depression_severity'], y_pred_depression)\n",
        "plt.figure(figsize=(6,4))\n",
        "sns.heatmap(cm_depression, annot=True, fmt='d', cmap='Blues')\n",
        "plt.xlabel('Predicted Labels')\n",
        "plt.ylabel('True Labels')\n",
        "plt.title('Confusion Matrix - Depression Model')\n",
        "plt.show()\n",
        "\n",
        "# Confusion Matrix for Anxiety\n",
        "cm_anxiety = confusion_matrix(y_test['anxiety_severity'], y_pred_anxiety)\n",
        "plt.figure(figsize=(6,4))\n",
        "sns.heatmap(cm_anxiety, annot=True, fmt='d', cmap='Oranges')\n",
        "plt.xlabel('Predicted Labels')\n",
        "plt.ylabel('True Labels')\n",
        "plt.title('Confusion Matrix - Anxiety Model')\n",
        "plt.show()"
      ],
      "metadata": {
        "colab": {
          "base_uri": "https://localhost:8080/",
          "height": 803
        },
        "id": "wisqs_5JQSSO",
        "outputId": "2670aeca-4caa-4eb4-8d9f-44133aabd600"
      },
      "execution_count": null,
      "outputs": [
        {
          "output_type": "display_data",
          "data": {
            "text/plain": [
              "<Figure size 600x400 with 2 Axes>"
            ],
            "image/png": "[encoded data removed]"
          },
          "metadata": {}
        },
        {
          "output_type": "display_data",
          "data": {
            "text/plain": [
              "<Figure size 600x400 with 2 Axes>"
            ],
            "image/png": "[encoded data removed]"
          },
          "metadata": {}
        }
      ]
    },
    {
      "cell_type": "code",
      "source": [],
      "metadata": {
        "id": "qTtvgB_-QVbK"
      },
      "execution_count": null,
      "outputs": []
    },
    {
      "cell_type": "code",
      "source": [],
      "metadata": {
        "id": "NocV210hTMRZ"
      },
      "execution_count": null,
      "outputs": []
    },
    {
      "cell_type": "markdown",
      "source": [
        "**NAIVE BAYES**"
      ],
      "metadata": {
        "id": "ma69PGqFVviK"
      }
    },
    {
      "cell_type": "code",
      "source": [
        "from sklearn.naive_bayes import GaussianNB\n",
        "from sklearn.metrics import accuracy_score\n",
        "\n",
        "# Initialize Naïve Bayes models for both depression and anxiety\n",
        "nb_depression = GaussianNB()\n",
        "nb_anxiety = GaussianNB()\n",
        "\n",
        "# Train models\n",
        "nb_depression.fit(x_train, y_train['depression_severity'])\n",
        "nb_anxiety.fit(x_train, y_train['anxiety_severity'])\n",
        "\n",
        "# Make predictions\n",
        "y_pred_depression = nb_depression.predict(x_test)\n",
        "y_pred_anxiety = nb_anxiety.predict(x_test)\n",
        "\n",
        "# Evaluate models\n",
        "accuracy_depression = accuracy_score(y_test['depression_severity'], y_pred_depression)\n",
        "accuracy_anxiety = accuracy_score(y_test['anxiety_severity'], y_pred_anxiety)\n",
        "\n",
        "print(\"Depression Model Performance:\")\n",
        "print(classification_report(y_test['depression_severity'], y_pred_depression))\n",
        "print(\"Accuracy:\", accuracy_score(y_test['depression_severity'], y_pred_depression))\n",
        "\n",
        "print(\"\\nAnxiety Model Performance:\")\n",
        "print(classification_report(y_test['anxiety_severity'], y_pred_anxiety))\n",
        "print(\"Accuracy:\", accuracy_score(y_test['anxiety_severity'], y_pred_anxiety))"
      ],
      "metadata": {
        "colab": {
          "base_uri": "https://localhost:8080/"
        },
        "id": "-Y7eNucUQboA",
        "outputId": "0ea2a52f-88ad-49f1-ab2d-8f67f727d804"
      },
      "execution_count": null,
      "outputs": [
        {
          "output_type": "stream",
          "name": "stdout",
          "text": [
            "Depression Model Accuracy: 0.97\n",
            "Anxiety Model Accuracy: 0.90\n",
            "Depression Model Performance:\n",
            "              precision    recall  f1-score   support\n",
            "\n",
            "           0       0.99      0.96      0.97        70\n",
            "           1       1.00      0.96      0.98        27\n",
            "           2       1.00      0.88      0.93         8\n",
            "           3       0.94      1.00      0.97        47\n",
            "           4       0.50      1.00      0.67         1\n",
            "           5       1.00      1.00      1.00         3\n",
            "           6       1.00      1.00      1.00         1\n",
            "\n",
            "    accuracy                           0.97       157\n",
            "   macro avg       0.92      0.97      0.93       157\n",
            "weighted avg       0.97      0.97      0.97       157\n",
            "\n",
            "Accuracy: 0.9681528662420382\n",
            "\n",
            "Anxiety Model Performance:\n",
            "              precision    recall  f1-score   support\n",
            "\n",
            "           0       0.25      0.50      0.33         2\n",
            "           1       0.88      0.92      0.90        49\n",
            "           2       0.96      0.90      0.93        29\n",
            "           3       0.92      0.89      0.90        62\n",
            "           4       0.93      0.93      0.93        15\n",
            "\n",
            "    accuracy                           0.90       157\n",
            "   macro avg       0.79      0.83      0.80       157\n",
            "weighted avg       0.91      0.90      0.90       157\n",
            "\n",
            "Accuracy: 0.8980891719745223\n"
          ]
        }
      ]
    },
    {
      "cell_type": "code",
      "source": [],
      "metadata": {
        "id": "ZQoYCSeoQzvj"
      },
      "execution_count": null,
      "outputs": []
    },
    {
      "cell_type": "code",
      "source": [],
      "metadata": {
        "id": "mGUac2-xTPfz"
      },
      "execution_count": null,
      "outputs": []
    },
    {
      "cell_type": "markdown",
      "source": [
        "**DECISION TREE**"
      ],
      "metadata": {
        "id": "Jn5x-vemV2UW"
      }
    },
    {
      "cell_type": "code",
      "source": [
        "from sklearn.tree import DecisionTreeClassifier\n",
        "from sklearn.metrics import accuracy_score\n",
        "\n",
        "# Initialize Decision Tree models for both depression and anxiety\n",
        "dt_depression = DecisionTreeClassifier(random_state=1)\n",
        "dt_anxiety = DecisionTreeClassifier(random_state=1)\n",
        "\n",
        "# Train models\n",
        "dt_depression.fit(x_train, y_train['depression_severity'])\n",
        "dt_anxiety.fit(x_train, y_train['anxiety_severity'])\n",
        "\n",
        "# Make predictions\n",
        "y_pred_depression = dt_depression.predict(x_test)\n",
        "y_pred_anxiety = dt_anxiety.predict(x_test)\n",
        "\n",
        "# Evaluate models\n",
        "accuracy_depression = accuracy_score(y_test['depression_severity'], y_pred_depression)\n",
        "accuracy_anxiety = accuracy_score(y_test['anxiety_severity'], y_pred_anxiety)\n",
        "\n",
        "print(\"Depression Model Performance:\")\n",
        "print(classification_report(y_test['depression_severity'], y_pred_depression))\n",
        "print(\"Accuracy:\", accuracy_score(y_test['depression_severity'], y_pred_depression))\n",
        "\n",
        "print(\"\\nAnxiety Model Performance:\")\n",
        "print(classification_report(y_test['anxiety_severity'], y_pred_anxiety))\n",
        "print(\"Accuracy:\", accuracy_score(y_test['anxiety_severity'], y_pred_anxiety))\n"
      ],
      "metadata": {
        "colab": {
          "base_uri": "https://localhost:8080/"
        },
        "id": "SYAx03SITS1_",
        "outputId": "37edcf15-9e09-4c7b-9795-0171e6f254f8"
      },
      "execution_count": null,
      "outputs": [
        {
          "output_type": "stream",
          "name": "stdout",
          "text": [
            "Depression Model Performance:\n",
            "              precision    recall  f1-score   support\n",
            "\n",
            "           0       1.00      1.00      1.00        70\n",
            "           1       1.00      1.00      1.00        27\n",
            "           2       1.00      1.00      1.00         8\n",
            "           3       1.00      1.00      1.00        47\n",
            "           4       1.00      1.00      1.00         1\n",
            "           5       1.00      1.00      1.00         3\n",
            "           6       1.00      1.00      1.00         1\n",
            "\n",
            "    accuracy                           1.00       157\n",
            "   macro avg       1.00      1.00      1.00       157\n",
            "weighted avg       1.00      1.00      1.00       157\n",
            "\n",
            "Accuracy: 1.0\n",
            "\n",
            "Anxiety Model Performance:\n",
            "              precision    recall  f1-score   support\n",
            "\n",
            "           0       0.00      0.00      0.00         2\n",
            "           1       1.00      1.00      1.00        49\n",
            "           2       1.00      1.00      1.00        29\n",
            "           3       0.97      0.92      0.94        62\n",
            "           4       1.00      1.00      1.00        15\n",
            "\n",
            "    accuracy                           0.96       157\n",
            "   macro avg       0.79      0.78      0.79       157\n",
            "weighted avg       0.97      0.96      0.96       157\n",
            "\n",
            "Accuracy: 0.9554140127388535\n"
          ]
        }
      ]
    },
    {
      "cell_type": "code",
      "source": [],
      "metadata": {
        "id": "uSdiGSbnTVR7"
      },
      "execution_count": null,
      "outputs": []
    },
    {
      "cell_type": "code",
      "source": [],
      "metadata": {
        "id": "nZuwjKHNTdma"
      },
      "execution_count": null,
      "outputs": []
    },
    {
      "cell_type": "markdown",
      "source": [
        "**RANDOM FOREST**"
      ],
      "metadata": {
        "id": "AR7NPeqQV7Gw"
      }
    },
    {
      "cell_type": "code",
      "source": [
        "from sklearn.ensemble import RandomForestClassifier\n",
        "from sklearn.metrics import accuracy_score\n",
        "\n",
        "# Initialize Random Forest models for both depression and anxiety\n",
        "rf_depression = RandomForestClassifier(n_estimators=100, random_state=1)\n",
        "rf_anxiety = RandomForestClassifier(n_estimators=100, random_state=1)\n",
        "\n",
        "# Train models\n",
        "rf_depression.fit(x_train, y_train['depression_severity'])\n",
        "rf_anxiety.fit(x_train, y_train['anxiety_severity'])\n",
        "\n",
        "# Make predictions\n",
        "y_pred_depression = rf_depression.predict(x_test)\n",
        "y_pred_anxiety = rf_anxiety.predict(x_test)\n",
        "\n",
        "# Evaluate models\n",
        "accuracy_depression = accuracy_score(y_test['depression_severity'], y_pred_depression)\n",
        "accuracy_anxiety = accuracy_score(y_test['anxiety_severity'], y_pred_anxiety)\n",
        "\n",
        "print(\"Depression Model Performance:\")\n",
        "print(classification_report(y_test['depression_severity'], y_pred_depression))\n",
        "print(\"Accuracy:\", accuracy_score(y_test['depression_severity'], y_pred_depression))\n",
        "\n",
        "print(\"\\nAnxiety Model Performance:\")\n",
        "print(classification_report(y_test['anxiety_severity'], y_pred_anxiety))\n",
        "print(\"Accuracy:\", accuracy_score(y_test['anxiety_severity'], y_pred_anxiety))\n"
      ],
      "metadata": {
        "colab": {
          "base_uri": "https://localhost:8080/"
        },
        "id": "0uvrUI19TwqO",
        "outputId": "2d2faf03-71e3-4657-e155-faf82fffe483"
      },
      "execution_count": null,
      "outputs": [
        {
          "output_type": "stream",
          "name": "stdout",
          "text": [
            "Depression Model Performance:\n",
            "              precision    recall  f1-score   support\n",
            "\n",
            "           0       1.00      1.00      1.00        70\n",
            "           1       0.96      1.00      0.98        27\n",
            "           2       1.00      1.00      1.00         8\n",
            "           3       0.98      1.00      0.99        47\n",
            "           4       0.00      0.00      0.00         1\n",
            "           5       1.00      1.00      1.00         3\n",
            "           6       0.00      0.00      0.00         1\n",
            "\n",
            "    accuracy                           0.99       157\n",
            "   macro avg       0.71      0.71      0.71       157\n",
            "weighted avg       0.97      0.99      0.98       157\n",
            "\n",
            "Accuracy: 0.9872611464968153\n",
            "\n",
            "Anxiety Model Performance:\n",
            "              precision    recall  f1-score   support\n",
            "\n",
            "           0       0.00      0.00      0.00         2\n",
            "           1       1.00      1.00      1.00        49\n",
            "           2       0.97      1.00      0.98        29\n",
            "           3       0.97      1.00      0.98        62\n",
            "           4       1.00      0.93      0.97        15\n",
            "\n",
            "    accuracy                           0.98       157\n",
            "   macro avg       0.79      0.79      0.79       157\n",
            "weighted avg       0.97      0.98      0.97       157\n",
            "\n",
            "Accuracy: 0.9808917197452229\n"
          ]
        },
        {
          "output_type": "stream",
          "name": "stderr",
          "text": [
            "/usr/local/lib/python3.11/dist-packages/sklearn/metrics/_classification.py:1565: UndefinedMetricWarning: Precision is ill-defined and being set to 0.0 in labels with no predicted samples. Use `zero_division` parameter to control this behavior.\n",
            "  _warn_prf(average, modifier, f\"{metric.capitalize()} is\", len(result))\n",
            "/usr/local/lib/python3.11/dist-packages/sklearn/metrics/_classification.py:1565: UndefinedMetricWarning: Precision is ill-defined and being set to 0.0 in labels with no predicted samples. Use `zero_division` parameter to control this behavior.\n",
            "  _warn_prf(average, modifier, f\"{metric.capitalize()} is\", len(result))\n",
            "/usr/local/lib/python3.11/dist-packages/sklearn/metrics/_classification.py:1565: UndefinedMetricWarning: Precision is ill-defined and being set to 0.0 in labels with no predicted samples. Use `zero_division` parameter to control this behavior.\n",
            "  _warn_prf(average, modifier, f\"{metric.capitalize()} is\", len(result))\n",
            "/usr/local/lib/python3.11/dist-packages/sklearn/metrics/_classification.py:1565: UndefinedMetricWarning: Precision is ill-defined and being set to 0.0 in labels with no predicted samples. Use `zero_division` parameter to control this behavior.\n",
            "  _warn_prf(average, modifier, f\"{metric.capitalize()} is\", len(result))\n",
            "/usr/local/lib/python3.11/dist-packages/sklearn/metrics/_classification.py:1565: UndefinedMetricWarning: Precision is ill-defined and being set to 0.0 in labels with no predicted samples. Use `zero_division` parameter to control this behavior.\n",
            "  _warn_prf(average, modifier, f\"{metric.capitalize()} is\", len(result))\n",
            "/usr/local/lib/python3.11/dist-packages/sklearn/metrics/_classification.py:1565: UndefinedMetricWarning: Precision is ill-defined and being set to 0.0 in labels with no predicted samples. Use `zero_division` parameter to control this behavior.\n",
            "  _warn_prf(average, modifier, f\"{metric.capitalize()} is\", len(result))\n"
          ]
        }
      ]
    },
    {
      "cell_type": "code",
      "source": [],
      "metadata": {
        "id": "U06NkBnWTxGD"
      },
      "execution_count": null,
      "outputs": []
    },
    {
      "cell_type": "code",
      "source": [],
      "metadata": {
        "id": "ron4yEiNTz77"
      },
      "execution_count": null,
      "outputs": []
    },
    {
      "cell_type": "markdown",
      "source": [
        "**KNN**"
      ],
      "metadata": {
        "id": "TyM8GmJwWBkk"
      }
    },
    {
      "cell_type": "code",
      "source": [
        "from sklearn.neighbors import KNeighborsClassifier\n",
        "from sklearn.metrics import accuracy_score\n",
        "\n",
        "# Initialize KNN models for both depression and anxiety\n",
        "knn_depression = KNeighborsClassifier(n_neighbors=5)\n",
        "knn_anxiety = KNeighborsClassifier(n_neighbors=5)\n",
        "\n",
        "# Train models\n",
        "knn_depression.fit(x_train, y_train['depression_severity'])\n",
        "knn_anxiety.fit(x_train, y_train['anxiety_severity'])\n",
        "\n",
        "# Make predictions\n",
        "y_pred_depression = knn_depression.predict(x_test)\n",
        "y_pred_anxiety = knn_anxiety.predict(x_test)\n",
        "\n",
        "# Evaluate models\n",
        "accuracy_depression = accuracy_score(y_test['depression_severity'], y_pred_depression)\n",
        "accuracy_anxiety = accuracy_score(y_test['anxiety_severity'], y_pred_anxiety)\n",
        "\n",
        "print(\"Depression Model Performance:\")\n",
        "print(classification_report(y_test['depression_severity'], y_pred_depression))\n",
        "print(\"Accuracy:\", accuracy_score(y_test['depression_severity'], y_pred_depression))\n",
        "\n",
        "print(\"\\nAnxiety Model Performance:\")\n",
        "print(classification_report(y_test['anxiety_severity'], y_pred_anxiety))\n",
        "print(\"Accuracy:\", accuracy_score(y_test['anxiety_severity'], y_pred_anxiety))\n"
      ],
      "metadata": {
        "colab": {
          "base_uri": "https://localhost:8080/"
        },
        "id": "_10t2NIjT6_b",
        "outputId": "4c45459b-576b-4d57-cb2a-2d4c4fd61c1a"
      },
      "execution_count": null,
      "outputs": [
        {
          "output_type": "stream",
          "name": "stdout",
          "text": [
            "Depression Model Performance:\n",
            "              precision    recall  f1-score   support\n",
            "\n",
            "           0       0.75      0.89      0.81        70\n",
            "           1       0.81      0.63      0.71        27\n",
            "           2       0.83      0.62      0.71         8\n",
            "           3       0.77      0.77      0.77        47\n",
            "           4       0.00      0.00      0.00         1\n",
            "           5       0.00      0.00      0.00         3\n",
            "           6       0.00      0.00      0.00         1\n",
            "\n",
            "    accuracy                           0.76       157\n",
            "   macro avg       0.45      0.42      0.43       157\n",
            "weighted avg       0.74      0.76      0.75       157\n",
            "\n",
            "Accuracy: 0.7643312101910829\n",
            "\n",
            "Anxiety Model Performance:\n",
            "              precision    recall  f1-score   support\n",
            "\n",
            "           0       0.00      0.00      0.00         2\n",
            "           1       0.64      0.71      0.67        49\n",
            "           2       0.68      0.66      0.67        29\n",
            "           3       0.80      0.84      0.82        62\n",
            "           4       1.00      0.60      0.75        15\n",
            "\n",
            "    accuracy                           0.73       157\n",
            "   macro avg       0.62      0.56      0.58       157\n",
            "weighted avg       0.74      0.73      0.73       157\n",
            "\n",
            "Accuracy: 0.732484076433121\n"
          ]
        },
        {
          "output_type": "stream",
          "name": "stderr",
          "text": [
            "/usr/local/lib/python3.11/dist-packages/sklearn/metrics/_classification.py:1565: UndefinedMetricWarning: Precision is ill-defined and being set to 0.0 in labels with no predicted samples. Use `zero_division` parameter to control this behavior.\n",
            "  _warn_prf(average, modifier, f\"{metric.capitalize()} is\", len(result))\n",
            "/usr/local/lib/python3.11/dist-packages/sklearn/metrics/_classification.py:1565: UndefinedMetricWarning: Precision is ill-defined and being set to 0.0 in labels with no predicted samples. Use `zero_division` parameter to control this behavior.\n",
            "  _warn_prf(average, modifier, f\"{metric.capitalize()} is\", len(result))\n",
            "/usr/local/lib/python3.11/dist-packages/sklearn/metrics/_classification.py:1565: UndefinedMetricWarning: Precision is ill-defined and being set to 0.0 in labels with no predicted samples. Use `zero_division` parameter to control this behavior.\n",
            "  _warn_prf(average, modifier, f\"{metric.capitalize()} is\", len(result))\n",
            "/usr/local/lib/python3.11/dist-packages/sklearn/metrics/_classification.py:1565: UndefinedMetricWarning: Precision is ill-defined and being set to 0.0 in labels with no predicted samples. Use `zero_division` parameter to control this behavior.\n",
            "  _warn_prf(average, modifier, f\"{metric.capitalize()} is\", len(result))\n",
            "/usr/local/lib/python3.11/dist-packages/sklearn/metrics/_classification.py:1565: UndefinedMetricWarning: Precision is ill-defined and being set to 0.0 in labels with no predicted samples. Use `zero_division` parameter to control this behavior.\n",
            "  _warn_prf(average, modifier, f\"{metric.capitalize()} is\", len(result))\n",
            "/usr/local/lib/python3.11/dist-packages/sklearn/metrics/_classification.py:1565: UndefinedMetricWarning: Precision is ill-defined and being set to 0.0 in labels with no predicted samples. Use `zero_division` parameter to control this behavior.\n",
            "  _warn_prf(average, modifier, f\"{metric.capitalize()} is\", len(result))\n"
          ]
        }
      ]
    },
    {
      "cell_type": "code",
      "source": [],
      "metadata": {
        "id": "L6bJflVvT7bK"
      },
      "execution_count": null,
      "outputs": []
    },
    {
      "cell_type": "code",
      "source": [],
      "metadata": {
        "id": "iiMwPEDHVWU8"
      },
      "execution_count": null,
      "outputs": []
    },
    {
      "cell_type": "markdown",
      "source": [
        "Logistic Regression: 96.18 , 96.82\n",
        "\n",
        "---\n",
        "\n",
        "SVM : 96.81, 96.81\n",
        "\n",
        "---\n",
        "Naive Bayes: 96.8, 89.80\n",
        "\n",
        "---\n",
        "\n",
        "Decision Tree: 100, 95.5\n",
        "\n",
        "---\n",
        "\n",
        "Random Forest: 98.72, 98.08\n",
        "\n",
        "---\n",
        "\n",
        "KNN: 76.43, 73.24"
      ],
      "metadata": {
        "id": "1qaU9a3rUsMy"
      }
    }
  ],
  "metadata": {
    "colab": {
      "provenance": [],
      "mount_file_id": "1M6IrRcnIOh9eI5Y-ywvZS-sDARy-gdV3",
      "authorship_tag": "ABX9TyNCgn84UMYEvdCeQNx7u69K",
      "include_colab_link": true
    },
    "kernelspec": {
      "display_name": "Python 3",
      "name": "python3"
    },
    "language_info": {
      "name": "python"
    }
  },
  "nbformat": 4,
  "nbformat_minor": 0
}